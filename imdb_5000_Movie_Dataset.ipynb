{
 "cells": [
  {
   "cell_type": "markdown",
   "metadata": {
    "toc": true
   },
   "source": [
    "<h1>Table of Contents<span class=\"tocSkip\"></span></h1>\n",
    "<div class=\"toc\"><ul class=\"toc-item\"><li><span><a href=\"#1.-Import-des-libraries\" data-toc-modified-id=\"1.-Import-des-libraries-1\"><span class=\"toc-item-num\">1&nbsp;&nbsp;</span><strong>1. Import des libraries</strong></a></span></li><li><span><a href=\"#2.-Import-des-données\" data-toc-modified-id=\"2.-Import-des-données-2\"><span class=\"toc-item-num\">2&nbsp;&nbsp;</span><strong>2. Import des données</strong></a></span></li><li><span><a href=\"#3.-Nettoyage-des-données\" data-toc-modified-id=\"3.-Nettoyage-des-données-3\"><span class=\"toc-item-num\">3&nbsp;&nbsp;</span><strong>3. Nettoyage des données</strong></a></span><ul class=\"toc-item\"><li><span><a href=\"#Duplicate\" data-toc-modified-id=\"Duplicate-3.1\"><span class=\"toc-item-num\">3.1&nbsp;&nbsp;</span>Duplicate</a></span></li><li><span><a href=\"#Nan\" data-toc-modified-id=\"Nan-3.2\"><span class=\"toc-item-num\">3.2&nbsp;&nbsp;</span>Nan</a></span></li></ul></li><li><span><a href=\"#4.-Analyse-exploratoire\" data-toc-modified-id=\"4.-Analyse-exploratoire-4\"><span class=\"toc-item-num\">4&nbsp;&nbsp;</span><strong>4. Analyse exploratoire</strong></a></span></li><li><span><a href=\"#5.-Pré-traitement\" data-toc-modified-id=\"5.-Pré-traitement-5\"><span class=\"toc-item-num\">5&nbsp;&nbsp;</span><strong>5. Pré-traitement</strong></a></span></li><li><span><a href=\"#6.-Une-régression-linéaire\" data-toc-modified-id=\"6.-Une-régression-linéaire-6\"><span class=\"toc-item-num\">6&nbsp;&nbsp;</span><strong>6. Une régression linéaire</strong></a></span></li><li><span><a href=\"#7.-Un-autre-modèle-de-régression\" data-toc-modified-id=\"7.-Un-autre-modèle-de-régression-7\"><span class=\"toc-item-num\">7&nbsp;&nbsp;</span><strong>7. Un autre modèle de régression</strong></a></span></li><li><span><a href=\"#8.-De-la-régression-à-la-classification\" data-toc-modified-id=\"8.-De-la-régression-à-la-classification-8\"><span class=\"toc-item-num\">8&nbsp;&nbsp;</span><strong>8. De la régression à la classification</strong></a></span></li><li><span><a href=\"#9.-Une-régression-logistique\" data-toc-modified-id=\"9.-Une-régression-logistique-9\"><span class=\"toc-item-num\">9&nbsp;&nbsp;</span><strong>9. Une régression logistique</strong></a></span></li><li><span><a href=\"#10.-Un-autre-modèle-de-classification\" data-toc-modified-id=\"10.-Un-autre-modèle-de-classification-10\"><span class=\"toc-item-num\">10&nbsp;&nbsp;</span><strong>10. Un autre modèle de classification</strong></a></span></li><li><span><a href=\"#11.-En-option\" data-toc-modified-id=\"11.-En-option-11\"><span class=\"toc-item-num\">11&nbsp;&nbsp;</span><strong>11. En option</strong></a></span><ul class=\"toc-item\"><li><span><a href=\"#11.1.-Un-outil-de-recommandation\" data-toc-modified-id=\"11.1.-Un-outil-de-recommandation-11.1\"><span class=\"toc-item-num\">11.1&nbsp;&nbsp;</span><strong>11.1. Un outil de recommandation</strong></a></span></li><li><span><a href=\"#11.2.-Sauvegarder-un-modèle\" data-toc-modified-id=\"11.2.-Sauvegarder-un-modèle-11.2\"><span class=\"toc-item-num\">11.2&nbsp;&nbsp;</span><strong>11.2. Sauvegarder un modèle</strong></a></span></li><li><span><a href=\"#11.3.-Analyse-en-Composantes-Principales\" data-toc-modified-id=\"11.3.-Analyse-en-Composantes-Principales-11.3\"><span class=\"toc-item-num\">11.3&nbsp;&nbsp;</span><strong>11.3. Analyse en Composantes Principales</strong></a></span></li></ul></li><li><span><a href=\"#Sources\" data-toc-modified-id=\"Sources-12\"><span class=\"toc-item-num\">12&nbsp;&nbsp;</span>Sources</a></span></li></ul></div>"
   ]
  },
  {
   "cell_type": "markdown",
   "metadata": {
    "colab_type": "text",
    "id": "bd8dOd6qOZYV"
   },
   "source": [
    "# **Projet P6 - révisions et pratique**"
   ]
  },
  {
   "cell_type": "markdown",
   "metadata": {
    "colab_type": "text",
    "id": "eyS7Q6eAO_C4"
   },
   "source": [
    "Vous allez travailler sur des données extraites de IMDB. Cela vous permettra si vous les souhaitez (plus tard!) d'inclure ce travail à votre projet TheMoviePredictor que vous faites avec Arnaud dans lequel vous récupérez justement ces données et construisez votre base. La variable d'intérêt sera la notation IMDB des films pour pouvoir déterminer. En effet le succès commercial d'un film n'implique pas nécessairement sa qualité et il convient donc d'aller chercher plus loin que le simple profit dégagé d'une production cinématographique...\n",
    "À vous !!\n",
    "\n",
    "Les **objectifs** de ce projet sont multiples :\n",
    "1. Réviser\n",
    "2. Pratiquer\n",
    "3. Vous auto-évaluer et vous évaluer (pour nous)\n",
    "4. Vous rassurer et vous permettre de réaliser ce que vous savez faire pour pouvoir en parler"
   ]
  },
  {
   "cell_type": "markdown",
   "metadata": {
    "colab_type": "text",
    "id": "_2oUOp-mixIv"
   },
   "source": [
    "## **1. Import des libraries**"
   ]
  },
  {
   "cell_type": "markdown",
   "metadata": {},
   "source": [
    "**À FAIRE**\n",
    "\n",
    "> Importer dans la cellule l'ensemble des librairies nécessaires à votre travail. L'idée n'est pas de savoir immédiatement tout ce dont vous aurez besoin mais de faire des aller-retours pour y ajouter vos librairies petit à petit. L'intérêt est une meilleure lisibilité pour un lecteur extérieur qui, en quelques lignes d'import, pourra déjà avoir une idée de ce qui a été fait."
   ]
  },
  {
   "cell_type": "code",
   "execution_count": 1,
   "metadata": {
    "colab": {},
    "colab_type": "code",
    "id": "O_h3GW7YI3SY"
   },
   "outputs": [],
   "source": []
  },
  {
   "cell_type": "code",
   "execution_count": 57,
   "metadata": {},
   "outputs": [],
   "source": [
    "# Importer les librairies\n",
    "import numpy as np\n",
    "import matplotlib.pyplot as plt\n",
    "import pandas as pd\n",
    "import seaborn as sns\n",
    "#conda install -c conda-forge missingno\n",
    "import missingno as msno\n",
    "#conda install -c conda-forge pandas-profiling\n",
    "from pandas_profiling import ProfileReport"
   ]
  },
  {
   "cell_type": "code",
   "execution_count": 58,
   "metadata": {},
   "outputs": [],
   "source": [
    "plt.rcParams[\"figure.figsize\"] = (18,8)"
   ]
  },
  {
   "cell_type": "code",
   "execution_count": 61,
   "metadata": {},
   "outputs": [
    {
     "data": {
      "text/plain": [
       "'0.10.0'"
      ]
     },
     "execution_count": 61,
     "metadata": {},
     "output_type": "execute_result"
    }
   ],
   "source": [
    "sns.__version__"
   ]
  },
  {
   "cell_type": "code",
   "execution_count": 63,
   "metadata": {},
   "outputs": [
    {
     "data": {
      "text/plain": [
       "'1.18.1'"
      ]
     },
     "execution_count": 63,
     "metadata": {},
     "output_type": "execute_result"
    }
   ],
   "source": [
    "np.__version__"
   ]
  },
  {
   "cell_type": "code",
   "execution_count": 64,
   "metadata": {},
   "outputs": [
    {
     "data": {
      "text/plain": [
       "'1.0.1'"
      ]
     },
     "execution_count": 64,
     "metadata": {},
     "output_type": "execute_result"
    }
   ],
   "source": [
    "pd.__version__"
   ]
  },
  {
   "cell_type": "markdown",
   "metadata": {
    "colab_type": "text",
    "id": "nNnaPdClkRvC"
   },
   "source": [
    "## **2. Import des données**"
   ]
  },
  {
   "cell_type": "markdown",
   "metadata": {},
   "source": [
    "**À FAIRE**\n",
    "\n",
    "> Importer les données `5000_movies.csv` disponible à la racine de ce document.  \n",
    "> Afficher les 7 premières lignes et **toutes** les colonnes.    \n",
    "> Répondre aux questions suivantes (répondez à toutes les questions dans une seule cellule Markdown mais évidemment le code vous ayant permis d'extraire ces informations doit être présent):\n",
    ">- combien y a-t-il d'observations/de variables ?\n",
    ">- sur combien d'années se répartissent les données ?\n",
    ">- combien de pays sont représentés ?\n",
    ">- combien de réalisateurs différents dans la base ?\n",
    ">- combien d'acteurs et d'actrices différentes ?"
   ]
  },
  {
   "cell_type": "code",
   "execution_count": 34,
   "metadata": {
    "scrolled": true
   },
   "outputs": [
    {
     "data": {
      "text/html": [
       "<div>\n",
       "<style scoped>\n",
       "    .dataframe tbody tr th:only-of-type {\n",
       "        vertical-align: middle;\n",
       "    }\n",
       "\n",
       "    .dataframe tbody tr th {\n",
       "        vertical-align: top;\n",
       "    }\n",
       "\n",
       "    .dataframe thead th {\n",
       "        text-align: right;\n",
       "    }\n",
       "</style>\n",
       "<table border=\"1\" class=\"dataframe\">\n",
       "  <thead>\n",
       "    <tr style=\"text-align: right;\">\n",
       "      <th></th>\n",
       "      <th>color</th>\n",
       "      <th>director_name</th>\n",
       "      <th>num_critic_for_reviews</th>\n",
       "      <th>duration</th>\n",
       "      <th>director_fb_likes</th>\n",
       "      <th>actor_3_fb_likes</th>\n",
       "      <th>actor_2_name</th>\n",
       "      <th>actor_1_fb_likes</th>\n",
       "      <th>gross</th>\n",
       "      <th>genres</th>\n",
       "      <th>...</th>\n",
       "      <th>num_user_for_reviews</th>\n",
       "      <th>language</th>\n",
       "      <th>country</th>\n",
       "      <th>content_rating</th>\n",
       "      <th>budget</th>\n",
       "      <th>title_year</th>\n",
       "      <th>actor_2_fb_likes</th>\n",
       "      <th>imdb_score</th>\n",
       "      <th>aspect_ratio</th>\n",
       "      <th>movie_fb_likes</th>\n",
       "    </tr>\n",
       "  </thead>\n",
       "  <tbody>\n",
       "    <tr>\n",
       "      <th>0</th>\n",
       "      <td>Color</td>\n",
       "      <td>James Cameron</td>\n",
       "      <td>723.0</td>\n",
       "      <td>178.0</td>\n",
       "      <td>0.0</td>\n",
       "      <td>855.0</td>\n",
       "      <td>Joel David Moore</td>\n",
       "      <td>1000.0</td>\n",
       "      <td>760505847.0</td>\n",
       "      <td>Action|Adventure|Fantasy|Sci-Fi</td>\n",
       "      <td>...</td>\n",
       "      <td>3054.0</td>\n",
       "      <td>English</td>\n",
       "      <td>USA</td>\n",
       "      <td>PG-13</td>\n",
       "      <td>237000000.0</td>\n",
       "      <td>2009.0</td>\n",
       "      <td>936.0</td>\n",
       "      <td>7.9</td>\n",
       "      <td>1.78</td>\n",
       "      <td>33000</td>\n",
       "    </tr>\n",
       "    <tr>\n",
       "      <th>1</th>\n",
       "      <td>Color</td>\n",
       "      <td>Gore Verbinski</td>\n",
       "      <td>302.0</td>\n",
       "      <td>169.0</td>\n",
       "      <td>563.0</td>\n",
       "      <td>1000.0</td>\n",
       "      <td>Orlando Bloom</td>\n",
       "      <td>40000.0</td>\n",
       "      <td>309404152.0</td>\n",
       "      <td>Action|Adventure|Fantasy</td>\n",
       "      <td>...</td>\n",
       "      <td>1238.0</td>\n",
       "      <td>English</td>\n",
       "      <td>USA</td>\n",
       "      <td>PG-13</td>\n",
       "      <td>300000000.0</td>\n",
       "      <td>2007.0</td>\n",
       "      <td>5000.0</td>\n",
       "      <td>7.1</td>\n",
       "      <td>2.35</td>\n",
       "      <td>0</td>\n",
       "    </tr>\n",
       "    <tr>\n",
       "      <th>2</th>\n",
       "      <td>Color</td>\n",
       "      <td>Sam Mendes</td>\n",
       "      <td>602.0</td>\n",
       "      <td>148.0</td>\n",
       "      <td>0.0</td>\n",
       "      <td>161.0</td>\n",
       "      <td>Rory Kinnear</td>\n",
       "      <td>11000.0</td>\n",
       "      <td>200074175.0</td>\n",
       "      <td>Action|Adventure|Thriller</td>\n",
       "      <td>...</td>\n",
       "      <td>994.0</td>\n",
       "      <td>English</td>\n",
       "      <td>UK</td>\n",
       "      <td>PG-13</td>\n",
       "      <td>245000000.0</td>\n",
       "      <td>2015.0</td>\n",
       "      <td>393.0</td>\n",
       "      <td>6.8</td>\n",
       "      <td>2.35</td>\n",
       "      <td>85000</td>\n",
       "    </tr>\n",
       "    <tr>\n",
       "      <th>3</th>\n",
       "      <td>Color</td>\n",
       "      <td>Christopher Nolan</td>\n",
       "      <td>813.0</td>\n",
       "      <td>164.0</td>\n",
       "      <td>22000.0</td>\n",
       "      <td>23000.0</td>\n",
       "      <td>Christian Bale</td>\n",
       "      <td>27000.0</td>\n",
       "      <td>448130642.0</td>\n",
       "      <td>Action|Thriller</td>\n",
       "      <td>...</td>\n",
       "      <td>2701.0</td>\n",
       "      <td>English</td>\n",
       "      <td>USA</td>\n",
       "      <td>PG-13</td>\n",
       "      <td>250000000.0</td>\n",
       "      <td>2012.0</td>\n",
       "      <td>23000.0</td>\n",
       "      <td>8.5</td>\n",
       "      <td>2.35</td>\n",
       "      <td>164000</td>\n",
       "    </tr>\n",
       "    <tr>\n",
       "      <th>4</th>\n",
       "      <td>NaN</td>\n",
       "      <td>Doug Walker</td>\n",
       "      <td>NaN</td>\n",
       "      <td>NaN</td>\n",
       "      <td>131.0</td>\n",
       "      <td>NaN</td>\n",
       "      <td>Rob Walker</td>\n",
       "      <td>131.0</td>\n",
       "      <td>NaN</td>\n",
       "      <td>Documentary</td>\n",
       "      <td>...</td>\n",
       "      <td>NaN</td>\n",
       "      <td>NaN</td>\n",
       "      <td>NaN</td>\n",
       "      <td>NaN</td>\n",
       "      <td>NaN</td>\n",
       "      <td>NaN</td>\n",
       "      <td>12.0</td>\n",
       "      <td>7.1</td>\n",
       "      <td>NaN</td>\n",
       "      <td>0</td>\n",
       "    </tr>\n",
       "    <tr>\n",
       "      <th>5</th>\n",
       "      <td>Color</td>\n",
       "      <td>Andrew Stanton</td>\n",
       "      <td>462.0</td>\n",
       "      <td>132.0</td>\n",
       "      <td>475.0</td>\n",
       "      <td>530.0</td>\n",
       "      <td>Samantha Morton</td>\n",
       "      <td>640.0</td>\n",
       "      <td>73058679.0</td>\n",
       "      <td>Action|Adventure|Sci-Fi</td>\n",
       "      <td>...</td>\n",
       "      <td>738.0</td>\n",
       "      <td>English</td>\n",
       "      <td>USA</td>\n",
       "      <td>PG-13</td>\n",
       "      <td>263700000.0</td>\n",
       "      <td>2012.0</td>\n",
       "      <td>632.0</td>\n",
       "      <td>6.6</td>\n",
       "      <td>2.35</td>\n",
       "      <td>24000</td>\n",
       "    </tr>\n",
       "    <tr>\n",
       "      <th>6</th>\n",
       "      <td>Color</td>\n",
       "      <td>Sam Raimi</td>\n",
       "      <td>392.0</td>\n",
       "      <td>156.0</td>\n",
       "      <td>0.0</td>\n",
       "      <td>4000.0</td>\n",
       "      <td>James Franco</td>\n",
       "      <td>24000.0</td>\n",
       "      <td>336530303.0</td>\n",
       "      <td>Action|Adventure|Romance</td>\n",
       "      <td>...</td>\n",
       "      <td>1902.0</td>\n",
       "      <td>English</td>\n",
       "      <td>USA</td>\n",
       "      <td>PG-13</td>\n",
       "      <td>258000000.0</td>\n",
       "      <td>2007.0</td>\n",
       "      <td>11000.0</td>\n",
       "      <td>6.2</td>\n",
       "      <td>2.35</td>\n",
       "      <td>0</td>\n",
       "    </tr>\n",
       "  </tbody>\n",
       "</table>\n",
       "<p>7 rows × 28 columns</p>\n",
       "</div>"
      ],
      "text/plain": [
       "   color      director_name  num_critic_for_reviews  duration  \\\n",
       "0  Color      James Cameron                   723.0     178.0   \n",
       "1  Color     Gore Verbinski                   302.0     169.0   \n",
       "2  Color         Sam Mendes                   602.0     148.0   \n",
       "3  Color  Christopher Nolan                   813.0     164.0   \n",
       "4    NaN        Doug Walker                     NaN       NaN   \n",
       "5  Color     Andrew Stanton                   462.0     132.0   \n",
       "6  Color          Sam Raimi                   392.0     156.0   \n",
       "\n",
       "   director_fb_likes  actor_3_fb_likes      actor_2_name  actor_1_fb_likes  \\\n",
       "0                0.0             855.0  Joel David Moore            1000.0   \n",
       "1              563.0            1000.0     Orlando Bloom           40000.0   \n",
       "2                0.0             161.0      Rory Kinnear           11000.0   \n",
       "3            22000.0           23000.0    Christian Bale           27000.0   \n",
       "4              131.0               NaN        Rob Walker             131.0   \n",
       "5              475.0             530.0   Samantha Morton             640.0   \n",
       "6                0.0            4000.0      James Franco           24000.0   \n",
       "\n",
       "         gross                           genres  ... num_user_for_reviews  \\\n",
       "0  760505847.0  Action|Adventure|Fantasy|Sci-Fi  ...               3054.0   \n",
       "1  309404152.0         Action|Adventure|Fantasy  ...               1238.0   \n",
       "2  200074175.0        Action|Adventure|Thriller  ...                994.0   \n",
       "3  448130642.0                  Action|Thriller  ...               2701.0   \n",
       "4          NaN                      Documentary  ...                  NaN   \n",
       "5   73058679.0          Action|Adventure|Sci-Fi  ...                738.0   \n",
       "6  336530303.0         Action|Adventure|Romance  ...               1902.0   \n",
       "\n",
       "  language  country  content_rating       budget  title_year actor_2_fb_likes  \\\n",
       "0  English      USA           PG-13  237000000.0      2009.0            936.0   \n",
       "1  English      USA           PG-13  300000000.0      2007.0           5000.0   \n",
       "2  English       UK           PG-13  245000000.0      2015.0            393.0   \n",
       "3  English      USA           PG-13  250000000.0      2012.0          23000.0   \n",
       "4      NaN      NaN             NaN          NaN         NaN             12.0   \n",
       "5  English      USA           PG-13  263700000.0      2012.0            632.0   \n",
       "6  English      USA           PG-13  258000000.0      2007.0          11000.0   \n",
       "\n",
       "  imdb_score  aspect_ratio movie_fb_likes  \n",
       "0        7.9          1.78          33000  \n",
       "1        7.1          2.35              0  \n",
       "2        6.8          2.35          85000  \n",
       "3        8.5          2.35         164000  \n",
       "4        7.1           NaN              0  \n",
       "5        6.6          2.35          24000  \n",
       "6        6.2          2.35              0  \n",
       "\n",
       "[7 rows x 28 columns]"
      ]
     },
     "execution_count": 34,
     "metadata": {},
     "output_type": "execute_result"
    }
   ],
   "source": [
    "data = pd.read_csv('5000_movies.csv')\n",
    "data.head(7)"
   ]
  },
  {
   "cell_type": "code",
   "execution_count": 35,
   "metadata": {},
   "outputs": [
    {
     "name": "stdout",
     "output_type": "stream",
     "text": [
      "il y a  5043 observations et  28 variables\n",
      "Unique elements in column \"title_year\" \n",
      "[2009. 2007. 2015. 2012.   nan 2010. 2016. 2006. 2008. 2013. 2011. 2014.\n",
      " 2005. 1997. 2004. 1999. 1995. 2003. 2001. 2002. 1998. 2000. 1990. 1991.\n",
      " 1994. 1996. 1982. 1993. 1979. 1992. 1989. 1984. 1988. 1978. 1962. 1980.\n",
      " 1972. 1981. 1968. 1985. 1940. 1963. 1987. 1986. 1973. 1983. 1976. 1977.\n",
      " 1970. 1971. 1969. 1960. 1965. 1964. 1927. 1974. 1937. 1975. 1967. 1951.\n",
      " 1961. 1946. 1953. 1954. 1959. 1932. 1947. 1956. 1945. 1952. 1930. 1966.\n",
      " 1939. 1950. 1948. 1958. 1957. 1943. 1944. 1938. 1949. 1936. 1941. 1955.\n",
      " 1942. 1929. 1935. 1933. 1916. 1934. 1925. 1920.]\n",
      "Number of unique values in column \"title_year\" of the dataframe : \n",
      "91\n",
      "Number of unique values in column \"title_year\" including NaN\n",
      "92\n",
      "Number of unique values in column \"country\" of the dataframe : \n",
      "65\n",
      "Number of unique values in column \"director_name\" of the dataframe : \n",
      "2398\n",
      "Number of unique values in column \"actor_2_name\" of the dataframe : \n",
      "3032\n"
     ]
    }
   ],
   "source": [
    "#combien y a-t-il d'observations/de variables ?\n",
    "print(\"il y a \", data.shape[0], \"observations et \", data.shape[1], \"variables\")\n",
    "\n",
    "#sur combien d'années se répartissent les données ?\n",
    "\n",
    "    # Get a series of unique values in column 'title_year' of the dataframe\n",
    "uniqueValues = data['title_year'].unique()\n",
    "print('Unique elements in column \"title_year\" ')\n",
    "print(uniqueValues)\n",
    "\n",
    "    # Count unique values in column 'title_year' of the dataframe\n",
    "uniqueValues = data['title_year'].nunique()\n",
    "print('Number of unique values in column \"title_year\" of the dataframe : ')\n",
    "print(uniqueValues)\n",
    "    \n",
    "    # Count unique values in column 'title_year' including NaN\n",
    "uniqueValues = data['title_year'].nunique(dropna=False)\n",
    " \n",
    "print('Number of unique values in column \"title_year\" including NaN')\n",
    "print(uniqueValues)\n",
    "\n",
    "#combien de pays sont représentés ?\n",
    "\n",
    "    # Count unique values in column 'country' of the dataframe\n",
    "uniqueValues = data['country'].nunique()\n",
    "print('Number of unique values in column \"country\" of the dataframe : ')\n",
    "print(uniqueValues)\n",
    "\n",
    "#combien de réalisateurs différents dans la base ?\n",
    "\n",
    "    # Count unique values in column 'director_name' of the dataframe\n",
    "uniqueValues = data['director_name'].nunique()\n",
    "print('Number of unique values in column \"director_name\" of the dataframe : ')\n",
    "print(uniqueValues)\n",
    "\n",
    "#combien d'acteurs et d'actrices différentes ?\n",
    "\n",
    "    # Count unique values in column 'actor_2_name' of the dataframe\n",
    "uniqueValues = data['actor_2_name'].nunique()\n",
    "print('Number of unique values in column \"actor_2_name\" of the dataframe : ')\n",
    "print(uniqueValues)\n"
   ]
  },
  {
   "cell_type": "code",
   "execution_count": 36,
   "metadata": {},
   "outputs": [],
   "source": [
    "# ! refaire acteurs car ils sont sur 3 colonnes "
   ]
  },
  {
   "cell_type": "code",
   "execution_count": null,
   "metadata": {},
   "outputs": [],
   "source": [
    "movie_actor_df = pd.melt(data[['movie_title', 'actor_1_name', 'actor_2_name', 'actor_3_name']],\n",
    "                             'movie_title',\n",
    "                             var_name='actor_number',\n",
    "                             value_name='actor')\n",
    "\n"
   ]
  },
  {
   "cell_type": "code",
   "execution_count": 37,
   "metadata": {},
   "outputs": [
    {
     "data": {
      "application/vnd.jupyter.widget-view+json": {
       "model_id": "8592aab5967241809b78e226550996b2",
       "version_major": 2,
       "version_minor": 0
      },
      "text/plain": [
       "Tab(children=(HTML(value='<div id=\"overview-content\" class=\"row variable spacing\">\\n    <div class=\"row\">\\n   …"
      ]
     },
     "metadata": {},
     "output_type": "display_data"
    },
    {
     "data": {
      "text/html": [
       "Report generated with <a href=\"https://github.com/pandas-profiling/pandas-profiling\">pandas-profiling</a>."
      ],
      "text/plain": [
       "<IPython.core.display.HTML object>"
      ]
     },
     "metadata": {},
     "output_type": "display_data"
    },
    {
     "data": {
      "text/plain": []
     },
     "execution_count": 37,
     "metadata": {},
     "output_type": "execute_result"
    }
   ],
   "source": [
    "profile = ProfileReport(data, title='Pandas Profiling Report', html={'style':{'full_width':True}})\n",
    "profile"
   ]
  },
  {
   "cell_type": "code",
   "execution_count": null,
   "metadata": {},
   "outputs": [],
   "source": []
  },
  {
   "cell_type": "code",
   "execution_count": 12,
   "metadata": {},
   "outputs": [
    {
     "data": {
      "text/plain": [
       "pandas.core.frame.DataFrame"
      ]
     },
     "execution_count": 12,
     "metadata": {},
     "output_type": "execute_result"
    }
   ],
   "source": [
    "type(data)"
   ]
  },
  {
   "cell_type": "code",
   "execution_count": 15,
   "metadata": {},
   "outputs": [
    {
     "name": "stdout",
     "output_type": "stream",
     "text": [
      "<class 'pandas.core.frame.DataFrame'>\n",
      "RangeIndex: 5043 entries, 0 to 5042\n",
      "Data columns (total 28 columns):\n",
      " #   Column                  Non-Null Count  Dtype  \n",
      "---  ------                  --------------  -----  \n",
      " 0   color                   5024 non-null   object \n",
      " 1   director_name           4939 non-null   object \n",
      " 2   num_critic_for_reviews  4993 non-null   float64\n",
      " 3   duration                5028 non-null   float64\n",
      " 4   director_fb_likes       4939 non-null   float64\n",
      " 5   actor_3_fb_likes        5020 non-null   float64\n",
      " 6   actor_2_name            5030 non-null   object \n",
      " 7   actor_1_fb_likes        5036 non-null   float64\n",
      " 8   gross                   4159 non-null   float64\n",
      " 9   genres                  5043 non-null   object \n",
      " 10  actor_1_name            5036 non-null   object \n",
      " 11  movie_title             5043 non-null   object \n",
      " 12  num_voted_users         5043 non-null   int64  \n",
      " 13  cast_total_fb_likes     5043 non-null   int64  \n",
      " 14  actor_3_name            5020 non-null   object \n",
      " 15  facenumber_in_poster    5030 non-null   float64\n",
      " 16  plot_keywords           4890 non-null   object \n",
      " 17  movie_imdb_link         5043 non-null   object \n",
      " 18  num_user_for_reviews    5022 non-null   float64\n",
      " 19  language                5031 non-null   object \n",
      " 20  country                 5038 non-null   object \n",
      " 21  content_rating          4740 non-null   object \n",
      " 22  budget                  4551 non-null   float64\n",
      " 23  title_year              4935 non-null   float64\n",
      " 24  actor_2_fb_likes        5030 non-null   float64\n",
      " 25  imdb_score              5043 non-null   float64\n",
      " 26  aspect_ratio            4714 non-null   float64\n",
      " 27  movie_fb_likes          5043 non-null   int64  \n",
      "dtypes: float64(13), int64(3), object(12)\n",
      "memory usage: 1.1+ MB\n"
     ]
    }
   ],
   "source": [
    "data.info()"
   ]
  },
  {
   "cell_type": "code",
   "execution_count": 17,
   "metadata": {},
   "outputs": [
    {
     "data": {
      "text/html": [
       "<div>\n",
       "<style scoped>\n",
       "    .dataframe tbody tr th:only-of-type {\n",
       "        vertical-align: middle;\n",
       "    }\n",
       "\n",
       "    .dataframe tbody tr th {\n",
       "        vertical-align: top;\n",
       "    }\n",
       "\n",
       "    .dataframe thead th {\n",
       "        text-align: right;\n",
       "    }\n",
       "</style>\n",
       "<table border=\"1\" class=\"dataframe\">\n",
       "  <thead>\n",
       "    <tr style=\"text-align: right;\">\n",
       "      <th></th>\n",
       "      <th>num_critic_for_reviews</th>\n",
       "      <th>duration</th>\n",
       "      <th>director_fb_likes</th>\n",
       "      <th>actor_3_fb_likes</th>\n",
       "      <th>actor_1_fb_likes</th>\n",
       "      <th>gross</th>\n",
       "      <th>num_voted_users</th>\n",
       "      <th>cast_total_fb_likes</th>\n",
       "      <th>facenumber_in_poster</th>\n",
       "      <th>num_user_for_reviews</th>\n",
       "      <th>budget</th>\n",
       "      <th>title_year</th>\n",
       "      <th>actor_2_fb_likes</th>\n",
       "      <th>imdb_score</th>\n",
       "      <th>aspect_ratio</th>\n",
       "      <th>movie_fb_likes</th>\n",
       "    </tr>\n",
       "  </thead>\n",
       "  <tbody>\n",
       "    <tr>\n",
       "      <th>count</th>\n",
       "      <td>4993.000000</td>\n",
       "      <td>5028.000000</td>\n",
       "      <td>4939.000000</td>\n",
       "      <td>5020.000000</td>\n",
       "      <td>5036.000000</td>\n",
       "      <td>4.159000e+03</td>\n",
       "      <td>5.043000e+03</td>\n",
       "      <td>5043.000000</td>\n",
       "      <td>5030.000000</td>\n",
       "      <td>5022.000000</td>\n",
       "      <td>4.551000e+03</td>\n",
       "      <td>4935.000000</td>\n",
       "      <td>5030.000000</td>\n",
       "      <td>5043.000000</td>\n",
       "      <td>4714.000000</td>\n",
       "      <td>5043.000000</td>\n",
       "    </tr>\n",
       "    <tr>\n",
       "      <th>mean</th>\n",
       "      <td>140.194272</td>\n",
       "      <td>107.201074</td>\n",
       "      <td>686.509212</td>\n",
       "      <td>645.009761</td>\n",
       "      <td>6560.047061</td>\n",
       "      <td>4.846841e+07</td>\n",
       "      <td>8.366816e+04</td>\n",
       "      <td>9699.063851</td>\n",
       "      <td>1.371173</td>\n",
       "      <td>272.770808</td>\n",
       "      <td>3.975262e+07</td>\n",
       "      <td>2002.470517</td>\n",
       "      <td>1651.754473</td>\n",
       "      <td>6.442138</td>\n",
       "      <td>2.220403</td>\n",
       "      <td>7525.964505</td>\n",
       "    </tr>\n",
       "    <tr>\n",
       "      <th>std</th>\n",
       "      <td>121.601675</td>\n",
       "      <td>25.197441</td>\n",
       "      <td>2813.328607</td>\n",
       "      <td>1665.041728</td>\n",
       "      <td>15020.759120</td>\n",
       "      <td>6.845299e+07</td>\n",
       "      <td>1.384853e+05</td>\n",
       "      <td>18163.799124</td>\n",
       "      <td>2.013576</td>\n",
       "      <td>377.982886</td>\n",
       "      <td>2.061149e+08</td>\n",
       "      <td>12.474599</td>\n",
       "      <td>4042.438863</td>\n",
       "      <td>1.125116</td>\n",
       "      <td>1.385113</td>\n",
       "      <td>19320.445110</td>\n",
       "    </tr>\n",
       "    <tr>\n",
       "      <th>min</th>\n",
       "      <td>1.000000</td>\n",
       "      <td>7.000000</td>\n",
       "      <td>0.000000</td>\n",
       "      <td>0.000000</td>\n",
       "      <td>0.000000</td>\n",
       "      <td>1.620000e+02</td>\n",
       "      <td>5.000000e+00</td>\n",
       "      <td>0.000000</td>\n",
       "      <td>0.000000</td>\n",
       "      <td>1.000000</td>\n",
       "      <td>2.180000e+02</td>\n",
       "      <td>1916.000000</td>\n",
       "      <td>0.000000</td>\n",
       "      <td>1.600000</td>\n",
       "      <td>1.180000</td>\n",
       "      <td>0.000000</td>\n",
       "    </tr>\n",
       "    <tr>\n",
       "      <th>25%</th>\n",
       "      <td>50.000000</td>\n",
       "      <td>93.000000</td>\n",
       "      <td>7.000000</td>\n",
       "      <td>133.000000</td>\n",
       "      <td>614.000000</td>\n",
       "      <td>5.340988e+06</td>\n",
       "      <td>8.593500e+03</td>\n",
       "      <td>1411.000000</td>\n",
       "      <td>0.000000</td>\n",
       "      <td>65.000000</td>\n",
       "      <td>6.000000e+06</td>\n",
       "      <td>1999.000000</td>\n",
       "      <td>281.000000</td>\n",
       "      <td>5.800000</td>\n",
       "      <td>1.850000</td>\n",
       "      <td>0.000000</td>\n",
       "    </tr>\n",
       "    <tr>\n",
       "      <th>50%</th>\n",
       "      <td>110.000000</td>\n",
       "      <td>103.000000</td>\n",
       "      <td>49.000000</td>\n",
       "      <td>371.500000</td>\n",
       "      <td>988.000000</td>\n",
       "      <td>2.551750e+07</td>\n",
       "      <td>3.435900e+04</td>\n",
       "      <td>3090.000000</td>\n",
       "      <td>1.000000</td>\n",
       "      <td>156.000000</td>\n",
       "      <td>2.000000e+07</td>\n",
       "      <td>2005.000000</td>\n",
       "      <td>595.000000</td>\n",
       "      <td>6.600000</td>\n",
       "      <td>2.350000</td>\n",
       "      <td>166.000000</td>\n",
       "    </tr>\n",
       "    <tr>\n",
       "      <th>75%</th>\n",
       "      <td>195.000000</td>\n",
       "      <td>118.000000</td>\n",
       "      <td>194.500000</td>\n",
       "      <td>636.000000</td>\n",
       "      <td>11000.000000</td>\n",
       "      <td>6.230944e+07</td>\n",
       "      <td>9.630900e+04</td>\n",
       "      <td>13756.500000</td>\n",
       "      <td>2.000000</td>\n",
       "      <td>326.000000</td>\n",
       "      <td>4.500000e+07</td>\n",
       "      <td>2011.000000</td>\n",
       "      <td>918.000000</td>\n",
       "      <td>7.200000</td>\n",
       "      <td>2.350000</td>\n",
       "      <td>3000.000000</td>\n",
       "    </tr>\n",
       "    <tr>\n",
       "      <th>max</th>\n",
       "      <td>813.000000</td>\n",
       "      <td>511.000000</td>\n",
       "      <td>23000.000000</td>\n",
       "      <td>23000.000000</td>\n",
       "      <td>640000.000000</td>\n",
       "      <td>7.605058e+08</td>\n",
       "      <td>1.689764e+06</td>\n",
       "      <td>656730.000000</td>\n",
       "      <td>43.000000</td>\n",
       "      <td>5060.000000</td>\n",
       "      <td>1.221550e+10</td>\n",
       "      <td>2016.000000</td>\n",
       "      <td>137000.000000</td>\n",
       "      <td>9.500000</td>\n",
       "      <td>16.000000</td>\n",
       "      <td>349000.000000</td>\n",
       "    </tr>\n",
       "  </tbody>\n",
       "</table>\n",
       "</div>"
      ],
      "text/plain": [
       "       num_critic_for_reviews     duration  director_fb_likes  \\\n",
       "count             4993.000000  5028.000000        4939.000000   \n",
       "mean               140.194272   107.201074         686.509212   \n",
       "std                121.601675    25.197441        2813.328607   \n",
       "min                  1.000000     7.000000           0.000000   \n",
       "25%                 50.000000    93.000000           7.000000   \n",
       "50%                110.000000   103.000000          49.000000   \n",
       "75%                195.000000   118.000000         194.500000   \n",
       "max                813.000000   511.000000       23000.000000   \n",
       "\n",
       "       actor_3_fb_likes  actor_1_fb_likes         gross  num_voted_users  \\\n",
       "count       5020.000000       5036.000000  4.159000e+03     5.043000e+03   \n",
       "mean         645.009761       6560.047061  4.846841e+07     8.366816e+04   \n",
       "std         1665.041728      15020.759120  6.845299e+07     1.384853e+05   \n",
       "min            0.000000          0.000000  1.620000e+02     5.000000e+00   \n",
       "25%          133.000000        614.000000  5.340988e+06     8.593500e+03   \n",
       "50%          371.500000        988.000000  2.551750e+07     3.435900e+04   \n",
       "75%          636.000000      11000.000000  6.230944e+07     9.630900e+04   \n",
       "max        23000.000000     640000.000000  7.605058e+08     1.689764e+06   \n",
       "\n",
       "       cast_total_fb_likes  facenumber_in_poster  num_user_for_reviews  \\\n",
       "count          5043.000000           5030.000000           5022.000000   \n",
       "mean           9699.063851              1.371173            272.770808   \n",
       "std           18163.799124              2.013576            377.982886   \n",
       "min               0.000000              0.000000              1.000000   \n",
       "25%            1411.000000              0.000000             65.000000   \n",
       "50%            3090.000000              1.000000            156.000000   \n",
       "75%           13756.500000              2.000000            326.000000   \n",
       "max          656730.000000             43.000000           5060.000000   \n",
       "\n",
       "             budget   title_year  actor_2_fb_likes   imdb_score  aspect_ratio  \\\n",
       "count  4.551000e+03  4935.000000       5030.000000  5043.000000   4714.000000   \n",
       "mean   3.975262e+07  2002.470517       1651.754473     6.442138      2.220403   \n",
       "std    2.061149e+08    12.474599       4042.438863     1.125116      1.385113   \n",
       "min    2.180000e+02  1916.000000          0.000000     1.600000      1.180000   \n",
       "25%    6.000000e+06  1999.000000        281.000000     5.800000      1.850000   \n",
       "50%    2.000000e+07  2005.000000        595.000000     6.600000      2.350000   \n",
       "75%    4.500000e+07  2011.000000        918.000000     7.200000      2.350000   \n",
       "max    1.221550e+10  2016.000000     137000.000000     9.500000     16.000000   \n",
       "\n",
       "       movie_fb_likes  \n",
       "count     5043.000000  \n",
       "mean      7525.964505  \n",
       "std      19320.445110  \n",
       "min          0.000000  \n",
       "25%          0.000000  \n",
       "50%        166.000000  \n",
       "75%       3000.000000  \n",
       "max     349000.000000  "
      ]
     },
     "execution_count": 17,
     "metadata": {},
     "output_type": "execute_result"
    }
   ],
   "source": [
    "data.describe()"
   ]
  },
  {
   "cell_type": "markdown",
   "metadata": {
    "colab_type": "text",
    "id": "nNnaPdClkRvC"
   },
   "source": [
    "## **3. Nettoyage des données**"
   ]
  },
  {
   "cell_type": "markdown",
   "metadata": {},
   "source": [
    "**À FAIRE**\n",
    "\n",
    "> Vous allez dans cette partie vous occuper de faire les opérations de nettoyage sur les données. Cela implique donc de regarder en détail :\n",
    ">- les doublons\n",
    ">- les variables (à supprimer, à modifier etc...)\n",
    ">- les valeurs manquantes\n",
    ">- les zéros\n",
    "> \n",
    ">Ajouter une courte explication des décisions que vous prendrez (gestion des valeurs manquantes, suppression ou modification de certaines variables, etc...)."
   ]
  },
  {
   "cell_type": "markdown",
   "metadata": {},
   "source": [
    "### Duplicate"
   ]
  },
  {
   "cell_type": "code",
   "execution_count": 39,
   "metadata": {},
   "outputs": [
    {
     "data": {
      "text/plain": [
       "(5043, 28)"
      ]
     },
     "execution_count": 39,
     "metadata": {},
     "output_type": "execute_result"
    }
   ],
   "source": [
    "data.shape"
   ]
  },
  {
   "cell_type": "code",
   "execution_count": 44,
   "metadata": {},
   "outputs": [
    {
     "data": {
      "text/plain": [
       "45"
      ]
     },
     "execution_count": 44,
     "metadata": {},
     "output_type": "execute_result"
    }
   ],
   "source": [
    "sum(data.duplicated())"
   ]
  },
  {
   "cell_type": "code",
   "execution_count": 48,
   "metadata": {},
   "outputs": [],
   "source": [
    "data.drop_duplicates(inplace = True)"
   ]
  },
  {
   "cell_type": "code",
   "execution_count": 49,
   "metadata": {},
   "outputs": [
    {
     "data": {
      "text/plain": [
       "(4998, 28)"
      ]
     },
     "execution_count": 49,
     "metadata": {},
     "output_type": "execute_result"
    }
   ],
   "source": [
    "data.shape"
   ]
  },
  {
   "cell_type": "code",
   "execution_count": null,
   "metadata": {},
   "outputs": [],
   "source": []
  },
  {
   "cell_type": "code",
   "execution_count": 42,
   "metadata": {},
   "outputs": [
    {
     "data": {
      "text/plain": [
       "245"
      ]
     },
     "execution_count": 42,
     "metadata": {},
     "output_type": "execute_result"
    }
   ],
   "source": [
    "sum(data.duplicated(subset='movie_title', keep=False))"
   ]
  },
  {
   "cell_type": "markdown",
   "metadata": {},
   "source": [
    "### Nan"
   ]
  },
  {
   "cell_type": "code",
   "execution_count": 27,
   "metadata": {},
   "outputs": [
    {
     "data": {
      "text/plain": [
       "color                      19\n",
       "director_name             104\n",
       "num_critic_for_reviews     50\n",
       "duration                   15\n",
       "director_fb_likes         104\n",
       "actor_3_fb_likes           23\n",
       "actor_2_name               13\n",
       "actor_1_fb_likes            7\n",
       "gross                     884\n",
       "genres                      0\n",
       "actor_1_name                7\n",
       "movie_title                 0\n",
       "num_voted_users             0\n",
       "cast_total_fb_likes         0\n",
       "actor_3_name               23\n",
       "facenumber_in_poster       13\n",
       "plot_keywords             153\n",
       "movie_imdb_link             0\n",
       "num_user_for_reviews       21\n",
       "language                   12\n",
       "country                     5\n",
       "content_rating            303\n",
       "budget                    492\n",
       "title_year                108\n",
       "actor_2_fb_likes           13\n",
       "imdb_score                  0\n",
       "aspect_ratio              329\n",
       "movie_fb_likes              0\n",
       "dtype: int64"
      ]
     },
     "execution_count": 27,
     "metadata": {},
     "output_type": "execute_result"
    }
   ],
   "source": [
    "data.isna().sum()"
   ]
  },
  {
   "cell_type": "code",
   "execution_count": 22,
   "metadata": {},
   "outputs": [
    {
     "data": {
      "text/plain": [
       "color                      19\n",
       "director_name             104\n",
       "num_critic_for_reviews     50\n",
       "duration                   15\n",
       "director_fb_likes         104\n",
       "actor_3_fb_likes           23\n",
       "actor_2_name               13\n",
       "actor_1_fb_likes            7\n",
       "gross                     884\n",
       "genres                      0\n",
       "actor_1_name                7\n",
       "movie_title                 0\n",
       "num_voted_users             0\n",
       "cast_total_fb_likes         0\n",
       "actor_3_name               23\n",
       "facenumber_in_poster       13\n",
       "plot_keywords             153\n",
       "movie_imdb_link             0\n",
       "num_user_for_reviews       21\n",
       "language                   12\n",
       "country                     5\n",
       "content_rating            303\n",
       "budget                    492\n",
       "title_year                108\n",
       "actor_2_fb_likes           13\n",
       "imdb_score                  0\n",
       "aspect_ratio              329\n",
       "movie_fb_likes              0\n",
       "dtype: int64"
      ]
     },
     "execution_count": 22,
     "metadata": {},
     "output_type": "execute_result"
    }
   ],
   "source": [
    "data.isnull().sum()"
   ]
  },
  {
   "cell_type": "code",
   "execution_count": 50,
   "metadata": {},
   "outputs": [],
   "source": [
    "data=data.dropna()"
   ]
  },
  {
   "cell_type": "code",
   "execution_count": null,
   "metadata": {},
   "outputs": [],
   "source": [
    "print \"total null values: \", data.isna().sum().sum()"
   ]
  },
  {
   "cell_type": "code",
   "execution_count": 51,
   "metadata": {},
   "outputs": [
    {
     "data": {
      "text/plain": [
       "(3723, 28)"
      ]
     },
     "execution_count": 51,
     "metadata": {},
     "output_type": "execute_result"
    }
   ],
   "source": [
    "data.shape"
   ]
  },
  {
   "cell_type": "code",
   "execution_count": 55,
   "metadata": {},
   "outputs": [
    {
     "data": {
      "text/plain": [
       "<matplotlib.axes._subplots.AxesSubplot at 0x1a317cb5a48>"
      ]
     },
     "execution_count": 55,
     "metadata": {},
     "output_type": "execute_result"
    },
    {
     "data": {
      "image/png": "[encoded data removed]",
      "text/plain": [
       "<Figure size 1296x576 with 1 Axes>"
      ]
     },
     "metadata": {},
     "output_type": "display_data"
    }
   ],
   "source": [
    "sns.heatmap(data.isnull(), cbar=False)"
   ]
  },
  {
   "cell_type": "code",
   "execution_count": 59,
   "metadata": {
    "scrolled": true
   },
   "outputs": [
    {
     "data": {
      "text/plain": [
       "<matplotlib.axes._subplots.AxesSubplot at 0x1a318cf1388>"
      ]
     },
     "execution_count": 59,
     "metadata": {},
     "output_type": "execute_result"
    },
    {
     "data": {
      "image/png": "[encoded data removed]",
      "text/plain": [
       "<Figure size 1800x720 with 2 Axes>"
      ]
     },
     "metadata": {},
     "output_type": "display_data"
    }
   ],
   "source": [
    "msno.matrix(data)"
   ]
  },
  {
   "cell_type": "code",
   "execution_count": 60,
   "metadata": {},
   "outputs": [
    {
     "data": {
      "text/plain": [
       "<matplotlib.axes._subplots.AxesSubplot at 0x1a318ff71c8>"
      ]
     },
     "execution_count": 60,
     "metadata": {},
     "output_type": "execute_result"
    },
    {
     "data": {
      "image/png": "[encoded data removed]",
      "text/plain": [
       "<Figure size 1440x864 with 2 Axes>"
      ]
     },
     "metadata": {},
     "output_type": "display_data"
    }
   ],
   "source": [
    "msno.heatmap(data)"
   ]
  },
  {
   "cell_type": "markdown",
   "metadata": {
    "colab_type": "text",
    "id": "nNnaPdClkRvC"
   },
   "source": [
    "## **4. Analyse exploratoire**"
   ]
  },
  {
   "cell_type": "markdown",
   "metadata": {},
   "source": [
    "**À FAIRE**\n",
    "\n",
    ">Dans cette partie, vous devez \"explorer\" vos données et les visualiser. Cette tâche, qui peut s'avérer très vaste, consiste à s'intéresser à l'information contenue dans nos données \"au premier abord\".\n",
    ">\n",
    ">Sont donc attendus dans cette partie :\n",
    ">- quelques statistiques descriptives\n",
    ">- entre 6 et 10 visualisations (vous pouvez bien sûr en regrouper plusieurs sur une même figure)\n",
    ">- et pour chaque résultat/graphique présenté, une explication succinte"
   ]
  },
  {
   "cell_type": "code",
   "execution_count": 65,
   "metadata": {},
   "outputs": [
    {
     "data": {
      "text/plain": [
       "array([[<matplotlib.axes._subplots.AxesSubplot object at 0x000001A318CEAA08>,\n",
       "        <matplotlib.axes._subplots.AxesSubplot object at 0x000001A3184B0608>,\n",
       "        <matplotlib.axes._subplots.AxesSubplot object at 0x000001A3184F2348>,\n",
       "        <matplotlib.axes._subplots.AxesSubplot object at 0x000001A318523B88>],\n",
       "       [<matplotlib.axes._subplots.AxesSubplot object at 0x000001A31855B448>,\n",
       "        <matplotlib.axes._subplots.AxesSubplot object at 0x000001A31858CC88>,\n",
       "        <matplotlib.axes._subplots.AxesSubplot object at 0x000001A3185C6508>,\n",
       "        <matplotlib.axes._subplots.AxesSubplot object at 0x000001A3185F6D48>],\n",
       "       [<matplotlib.axes._subplots.AxesSubplot object at 0x000001A3185FDAC8>,\n",
       "        <matplotlib.axes._subplots.AxesSubplot object at 0x000001A318638508>,\n",
       "        <matplotlib.axes._subplots.AxesSubplot object at 0x000001A31907A6C8>,\n",
       "        <matplotlib.axes._subplots.AxesSubplot object at 0x000001A3190B32C8>],\n",
       "       [<matplotlib.axes._subplots.AxesSubplot object at 0x000001A3190E8F48>,\n",
       "        <matplotlib.axes._subplots.AxesSubplot object at 0x000001A3191250C8>,\n",
       "        <matplotlib.axes._subplots.AxesSubplot object at 0x000001A31915B1C8>,\n",
       "        <matplotlib.axes._subplots.AxesSubplot object at 0x000001A3191952C8>]],\n",
       "      dtype=object)"
      ]
     },
     "execution_count": 65,
     "metadata": {},
     "output_type": "execute_result"
    },
    {
     "data": {
      "image/png": "[encoded data removed]",
      "text/plain": [
       "<Figure size 1440x1440 with 16 Axes>"
      ]
     },
     "metadata": {},
     "output_type": "display_data"
    }
   ],
   "source": [
    "data.hist(figsize=[20,20])"
   ]
  },
  {
   "cell_type": "code",
   "execution_count": 66,
   "metadata": {},
   "outputs": [],
   "source": [
    "corr_matrix = data.corr()"
   ]
  },
  {
   "cell_type": "code",
   "execution_count": 67,
   "metadata": {
    "scrolled": true
   },
   "outputs": [
    {
     "data": {
      "text/html": [
       "<div>\n",
       "<style scoped>\n",
       "    .dataframe tbody tr th:only-of-type {\n",
       "        vertical-align: middle;\n",
       "    }\n",
       "\n",
       "    .dataframe tbody tr th {\n",
       "        vertical-align: top;\n",
       "    }\n",
       "\n",
       "    .dataframe thead th {\n",
       "        text-align: right;\n",
       "    }\n",
       "</style>\n",
       "<table border=\"1\" class=\"dataframe\">\n",
       "  <thead>\n",
       "    <tr style=\"text-align: right;\">\n",
       "      <th></th>\n",
       "      <th>num_critic_for_reviews</th>\n",
       "      <th>duration</th>\n",
       "      <th>director_fb_likes</th>\n",
       "      <th>actor_3_fb_likes</th>\n",
       "      <th>actor_1_fb_likes</th>\n",
       "      <th>gross</th>\n",
       "      <th>num_voted_users</th>\n",
       "      <th>cast_total_fb_likes</th>\n",
       "      <th>facenumber_in_poster</th>\n",
       "      <th>num_user_for_reviews</th>\n",
       "      <th>budget</th>\n",
       "      <th>title_year</th>\n",
       "      <th>actor_2_fb_likes</th>\n",
       "      <th>imdb_score</th>\n",
       "      <th>aspect_ratio</th>\n",
       "      <th>movie_fb_likes</th>\n",
       "    </tr>\n",
       "  </thead>\n",
       "  <tbody>\n",
       "    <tr>\n",
       "      <th>num_critic_for_reviews</th>\n",
       "      <td>1.000000</td>\n",
       "      <td>0.227619</td>\n",
       "      <td>0.175715</td>\n",
       "      <td>0.245440</td>\n",
       "      <td>0.165648</td>\n",
       "      <td>0.460797</td>\n",
       "      <td>0.591586</td>\n",
       "      <td>0.233781</td>\n",
       "      <td>-0.035603</td>\n",
       "      <td>0.562596</td>\n",
       "      <td>0.103921</td>\n",
       "      <td>0.420184</td>\n",
       "      <td>0.251119</td>\n",
       "      <td>0.349825</td>\n",
       "      <td>0.179809</td>\n",
       "      <td>0.703579</td>\n",
       "    </tr>\n",
       "    <tr>\n",
       "      <th>duration</th>\n",
       "      <td>0.227619</td>\n",
       "      <td>1.000000</td>\n",
       "      <td>0.180397</td>\n",
       "      <td>0.120776</td>\n",
       "      <td>0.082901</td>\n",
       "      <td>0.242610</td>\n",
       "      <td>0.338953</td>\n",
       "      <td>0.117736</td>\n",
       "      <td>0.027522</td>\n",
       "      <td>0.352083</td>\n",
       "      <td>0.067380</td>\n",
       "      <td>-0.131689</td>\n",
       "      <td>0.126651</td>\n",
       "      <td>0.367388</td>\n",
       "      <td>0.153353</td>\n",
       "      <td>0.212977</td>\n",
       "    </tr>\n",
       "    <tr>\n",
       "      <th>director_fb_likes</th>\n",
       "      <td>0.175715</td>\n",
       "      <td>0.180397</td>\n",
       "      <td>1.000000</td>\n",
       "      <td>0.120584</td>\n",
       "      <td>0.090467</td>\n",
       "      <td>0.139729</td>\n",
       "      <td>0.302766</td>\n",
       "      <td>0.120076</td>\n",
       "      <td>-0.047577</td>\n",
       "      <td>0.218876</td>\n",
       "      <td>0.018105</td>\n",
       "      <td>-0.045718</td>\n",
       "      <td>0.117858</td>\n",
       "      <td>0.193125</td>\n",
       "      <td>0.037171</td>\n",
       "      <td>0.162641</td>\n",
       "    </tr>\n",
       "    <tr>\n",
       "      <th>actor_3_fb_likes</th>\n",
       "      <td>0.245440</td>\n",
       "      <td>0.120776</td>\n",
       "      <td>0.120584</td>\n",
       "      <td>1.000000</td>\n",
       "      <td>0.252450</td>\n",
       "      <td>0.281238</td>\n",
       "      <td>0.257632</td>\n",
       "      <td>0.485596</td>\n",
       "      <td>0.104853</td>\n",
       "      <td>0.200485</td>\n",
       "      <td>0.038207</td>\n",
       "      <td>0.116479</td>\n",
       "      <td>0.550328</td>\n",
       "      <td>0.064187</td>\n",
       "      <td>0.047918</td>\n",
       "      <td>0.259922</td>\n",
       "    </tr>\n",
       "    <tr>\n",
       "      <th>actor_1_fb_likes</th>\n",
       "      <td>0.165648</td>\n",
       "      <td>0.082901</td>\n",
       "      <td>0.090467</td>\n",
       "      <td>0.252450</td>\n",
       "      <td>1.000000</td>\n",
       "      <td>0.142577</td>\n",
       "      <td>0.178009</td>\n",
       "      <td>0.946075</td>\n",
       "      <td>0.055769</td>\n",
       "      <td>0.121393</td>\n",
       "      <td>0.016027</td>\n",
       "      <td>0.095997</td>\n",
       "      <td>0.390411</td>\n",
       "      <td>0.092927</td>\n",
       "      <td>0.056816</td>\n",
       "      <td>0.128804</td>\n",
       "    </tr>\n",
       "    <tr>\n",
       "      <th>gross</th>\n",
       "      <td>0.460797</td>\n",
       "      <td>0.242610</td>\n",
       "      <td>0.139729</td>\n",
       "      <td>0.281238</td>\n",
       "      <td>0.142577</td>\n",
       "      <td>1.000000</td>\n",
       "      <td>0.622714</td>\n",
       "      <td>0.227955</td>\n",
       "      <td>-0.034389</td>\n",
       "      <td>0.545656</td>\n",
       "      <td>0.098318</td>\n",
       "      <td>0.053163</td>\n",
       "      <td>0.243977</td>\n",
       "      <td>0.215510</td>\n",
       "      <td>0.065903</td>\n",
       "      <td>0.358630</td>\n",
       "    </tr>\n",
       "    <tr>\n",
       "      <th>num_voted_users</th>\n",
       "      <td>0.591586</td>\n",
       "      <td>0.338953</td>\n",
       "      <td>0.302766</td>\n",
       "      <td>0.257632</td>\n",
       "      <td>0.178009</td>\n",
       "      <td>0.622714</td>\n",
       "      <td>1.000000</td>\n",
       "      <td>0.243834</td>\n",
       "      <td>-0.035822</td>\n",
       "      <td>0.779191</td>\n",
       "      <td>0.065398</td>\n",
       "      <td>0.023488</td>\n",
       "      <td>0.239126</td>\n",
       "      <td>0.482583</td>\n",
       "      <td>0.087079</td>\n",
       "      <td>0.514855</td>\n",
       "    </tr>\n",
       "    <tr>\n",
       "      <th>cast_total_fb_likes</th>\n",
       "      <td>0.233781</td>\n",
       "      <td>0.117736</td>\n",
       "      <td>0.120076</td>\n",
       "      <td>0.485596</td>\n",
       "      <td>0.946075</td>\n",
       "      <td>0.227955</td>\n",
       "      <td>0.243834</td>\n",
       "      <td>1.000000</td>\n",
       "      <td>0.078250</td>\n",
       "      <td>0.176231</td>\n",
       "      <td>0.027670</td>\n",
       "      <td>0.126650</td>\n",
       "      <td>0.640366</td>\n",
       "      <td>0.105397</td>\n",
       "      <td>0.069464</td>\n",
       "      <td>0.199995</td>\n",
       "    </tr>\n",
       "    <tr>\n",
       "      <th>facenumber_in_poster</th>\n",
       "      <td>-0.035603</td>\n",
       "      <td>0.027522</td>\n",
       "      <td>-0.047577</td>\n",
       "      <td>0.104853</td>\n",
       "      <td>0.055769</td>\n",
       "      <td>-0.034389</td>\n",
       "      <td>-0.035822</td>\n",
       "      <td>0.078250</td>\n",
       "      <td>1.000000</td>\n",
       "      <td>-0.082542</td>\n",
       "      <td>-0.022107</td>\n",
       "      <td>0.069622</td>\n",
       "      <td>0.070261</td>\n",
       "      <td>-0.067010</td>\n",
       "      <td>0.019358</td>\n",
       "      <td>0.012960</td>\n",
       "    </tr>\n",
       "    <tr>\n",
       "      <th>num_user_for_reviews</th>\n",
       "      <td>0.562596</td>\n",
       "      <td>0.352083</td>\n",
       "      <td>0.218876</td>\n",
       "      <td>0.200485</td>\n",
       "      <td>0.121393</td>\n",
       "      <td>0.545656</td>\n",
       "      <td>0.779191</td>\n",
       "      <td>0.176231</td>\n",
       "      <td>-0.082542</td>\n",
       "      <td>1.000000</td>\n",
       "      <td>0.070271</td>\n",
       "      <td>0.020059</td>\n",
       "      <td>0.184704</td>\n",
       "      <td>0.325026</td>\n",
       "      <td>0.098260</td>\n",
       "      <td>0.368575</td>\n",
       "    </tr>\n",
       "    <tr>\n",
       "      <th>budget</th>\n",
       "      <td>0.103921</td>\n",
       "      <td>0.067380</td>\n",
       "      <td>0.018105</td>\n",
       "      <td>0.038207</td>\n",
       "      <td>0.016027</td>\n",
       "      <td>0.098318</td>\n",
       "      <td>0.065398</td>\n",
       "      <td>0.027670</td>\n",
       "      <td>-0.022107</td>\n",
       "      <td>0.070271</td>\n",
       "      <td>1.000000</td>\n",
       "      <td>0.046340</td>\n",
       "      <td>0.034691</td>\n",
       "      <td>0.029462</td>\n",
       "      <td>0.024978</td>\n",
       "      <td>0.051059</td>\n",
       "    </tr>\n",
       "    <tr>\n",
       "      <th>title_year</th>\n",
       "      <td>0.420184</td>\n",
       "      <td>-0.131689</td>\n",
       "      <td>-0.045718</td>\n",
       "      <td>0.116479</td>\n",
       "      <td>0.095997</td>\n",
       "      <td>0.053163</td>\n",
       "      <td>0.023488</td>\n",
       "      <td>0.126650</td>\n",
       "      <td>0.069622</td>\n",
       "      <td>0.020059</td>\n",
       "      <td>0.046340</td>\n",
       "      <td>1.000000</td>\n",
       "      <td>0.123050</td>\n",
       "      <td>-0.132274</td>\n",
       "      <td>0.215610</td>\n",
       "      <td>0.305520</td>\n",
       "    </tr>\n",
       "    <tr>\n",
       "      <th>actor_2_fb_likes</th>\n",
       "      <td>0.251119</td>\n",
       "      <td>0.126651</td>\n",
       "      <td>0.117858</td>\n",
       "      <td>0.550328</td>\n",
       "      <td>0.390411</td>\n",
       "      <td>0.243977</td>\n",
       "      <td>0.239126</td>\n",
       "      <td>0.640366</td>\n",
       "      <td>0.070261</td>\n",
       "      <td>0.184704</td>\n",
       "      <td>0.034691</td>\n",
       "      <td>0.123050</td>\n",
       "      <td>1.000000</td>\n",
       "      <td>0.100290</td>\n",
       "      <td>0.065212</td>\n",
       "      <td>0.226923</td>\n",
       "    </tr>\n",
       "    <tr>\n",
       "      <th>imdb_score</th>\n",
       "      <td>0.349825</td>\n",
       "      <td>0.367388</td>\n",
       "      <td>0.193125</td>\n",
       "      <td>0.064187</td>\n",
       "      <td>0.092927</td>\n",
       "      <td>0.215510</td>\n",
       "      <td>0.482583</td>\n",
       "      <td>0.105397</td>\n",
       "      <td>-0.067010</td>\n",
       "      <td>0.325026</td>\n",
       "      <td>0.029462</td>\n",
       "      <td>-0.132274</td>\n",
       "      <td>0.100290</td>\n",
       "      <td>1.000000</td>\n",
       "      <td>0.031060</td>\n",
       "      <td>0.284034</td>\n",
       "    </tr>\n",
       "    <tr>\n",
       "      <th>aspect_ratio</th>\n",
       "      <td>0.179809</td>\n",
       "      <td>0.153353</td>\n",
       "      <td>0.037171</td>\n",
       "      <td>0.047918</td>\n",
       "      <td>0.056816</td>\n",
       "      <td>0.065903</td>\n",
       "      <td>0.087079</td>\n",
       "      <td>0.069464</td>\n",
       "      <td>0.019358</td>\n",
       "      <td>0.098260</td>\n",
       "      <td>0.024978</td>\n",
       "      <td>0.215610</td>\n",
       "      <td>0.065212</td>\n",
       "      <td>0.031060</td>\n",
       "      <td>1.000000</td>\n",
       "      <td>0.110104</td>\n",
       "    </tr>\n",
       "    <tr>\n",
       "      <th>movie_fb_likes</th>\n",
       "      <td>0.703579</td>\n",
       "      <td>0.212977</td>\n",
       "      <td>0.162641</td>\n",
       "      <td>0.259922</td>\n",
       "      <td>0.128804</td>\n",
       "      <td>0.358630</td>\n",
       "      <td>0.514855</td>\n",
       "      <td>0.199995</td>\n",
       "      <td>0.012960</td>\n",
       "      <td>0.368575</td>\n",
       "      <td>0.051059</td>\n",
       "      <td>0.305520</td>\n",
       "      <td>0.226923</td>\n",
       "      <td>0.284034</td>\n",
       "      <td>0.110104</td>\n",
       "      <td>1.000000</td>\n",
       "    </tr>\n",
       "  </tbody>\n",
       "</table>\n",
       "</div>"
      ],
      "text/plain": [
       "                        num_critic_for_reviews  duration  director_fb_likes  \\\n",
       "num_critic_for_reviews                1.000000  0.227619           0.175715   \n",
       "duration                              0.227619  1.000000           0.180397   \n",
       "director_fb_likes                     0.175715  0.180397           1.000000   \n",
       "actor_3_fb_likes                      0.245440  0.120776           0.120584   \n",
       "actor_1_fb_likes                      0.165648  0.082901           0.090467   \n",
       "gross                                 0.460797  0.242610           0.139729   \n",
       "num_voted_users                       0.591586  0.338953           0.302766   \n",
       "cast_total_fb_likes                   0.233781  0.117736           0.120076   \n",
       "facenumber_in_poster                 -0.035603  0.027522          -0.047577   \n",
       "num_user_for_reviews                  0.562596  0.352083           0.218876   \n",
       "budget                                0.103921  0.067380           0.018105   \n",
       "title_year                            0.420184 -0.131689          -0.045718   \n",
       "actor_2_fb_likes                      0.251119  0.126651           0.117858   \n",
       "imdb_score                            0.349825  0.367388           0.193125   \n",
       "aspect_ratio                          0.179809  0.153353           0.037171   \n",
       "movie_fb_likes                        0.703579  0.212977           0.162641   \n",
       "\n",
       "                        actor_3_fb_likes  actor_1_fb_likes     gross  \\\n",
       "num_critic_for_reviews          0.245440          0.165648  0.460797   \n",
       "duration                        0.120776          0.082901  0.242610   \n",
       "director_fb_likes               0.120584          0.090467  0.139729   \n",
       "actor_3_fb_likes                1.000000          0.252450  0.281238   \n",
       "actor_1_fb_likes                0.252450          1.000000  0.142577   \n",
       "gross                           0.281238          0.142577  1.000000   \n",
       "num_voted_users                 0.257632          0.178009  0.622714   \n",
       "cast_total_fb_likes             0.485596          0.946075  0.227955   \n",
       "facenumber_in_poster            0.104853          0.055769 -0.034389   \n",
       "num_user_for_reviews            0.200485          0.121393  0.545656   \n",
       "budget                          0.038207          0.016027  0.098318   \n",
       "title_year                      0.116479          0.095997  0.053163   \n",
       "actor_2_fb_likes                0.550328          0.390411  0.243977   \n",
       "imdb_score                      0.064187          0.092927  0.215510   \n",
       "aspect_ratio                    0.047918          0.056816  0.065903   \n",
       "movie_fb_likes                  0.259922          0.128804  0.358630   \n",
       "\n",
       "                        num_voted_users  cast_total_fb_likes  \\\n",
       "num_critic_for_reviews         0.591586             0.233781   \n",
       "duration                       0.338953             0.117736   \n",
       "director_fb_likes              0.302766             0.120076   \n",
       "actor_3_fb_likes               0.257632             0.485596   \n",
       "actor_1_fb_likes               0.178009             0.946075   \n",
       "gross                          0.622714             0.227955   \n",
       "num_voted_users                1.000000             0.243834   \n",
       "cast_total_fb_likes            0.243834             1.000000   \n",
       "facenumber_in_poster          -0.035822             0.078250   \n",
       "num_user_for_reviews           0.779191             0.176231   \n",
       "budget                         0.065398             0.027670   \n",
       "title_year                     0.023488             0.126650   \n",
       "actor_2_fb_likes               0.239126             0.640366   \n",
       "imdb_score                     0.482583             0.105397   \n",
       "aspect_ratio                   0.087079             0.069464   \n",
       "movie_fb_likes                 0.514855             0.199995   \n",
       "\n",
       "                        facenumber_in_poster  num_user_for_reviews    budget  \\\n",
       "num_critic_for_reviews             -0.035603              0.562596  0.103921   \n",
       "duration                            0.027522              0.352083  0.067380   \n",
       "director_fb_likes                  -0.047577              0.218876  0.018105   \n",
       "actor_3_fb_likes                    0.104853              0.200485  0.038207   \n",
       "actor_1_fb_likes                    0.055769              0.121393  0.016027   \n",
       "gross                              -0.034389              0.545656  0.098318   \n",
       "num_voted_users                    -0.035822              0.779191  0.065398   \n",
       "cast_total_fb_likes                 0.078250              0.176231  0.027670   \n",
       "facenumber_in_poster                1.000000             -0.082542 -0.022107   \n",
       "num_user_for_reviews               -0.082542              1.000000  0.070271   \n",
       "budget                             -0.022107              0.070271  1.000000   \n",
       "title_year                          0.069622              0.020059  0.046340   \n",
       "actor_2_fb_likes                    0.070261              0.184704  0.034691   \n",
       "imdb_score                         -0.067010              0.325026  0.029462   \n",
       "aspect_ratio                        0.019358              0.098260  0.024978   \n",
       "movie_fb_likes                      0.012960              0.368575  0.051059   \n",
       "\n",
       "                        title_year  actor_2_fb_likes  imdb_score  \\\n",
       "num_critic_for_reviews    0.420184          0.251119    0.349825   \n",
       "duration                 -0.131689          0.126651    0.367388   \n",
       "director_fb_likes        -0.045718          0.117858    0.193125   \n",
       "actor_3_fb_likes          0.116479          0.550328    0.064187   \n",
       "actor_1_fb_likes          0.095997          0.390411    0.092927   \n",
       "gross                     0.053163          0.243977    0.215510   \n",
       "num_voted_users           0.023488          0.239126    0.482583   \n",
       "cast_total_fb_likes       0.126650          0.640366    0.105397   \n",
       "facenumber_in_poster      0.069622          0.070261   -0.067010   \n",
       "num_user_for_reviews      0.020059          0.184704    0.325026   \n",
       "budget                    0.046340          0.034691    0.029462   \n",
       "title_year                1.000000          0.123050   -0.132274   \n",
       "actor_2_fb_likes          0.123050          1.000000    0.100290   \n",
       "imdb_score               -0.132274          0.100290    1.000000   \n",
       "aspect_ratio              0.215610          0.065212    0.031060   \n",
       "movie_fb_likes            0.305520          0.226923    0.284034   \n",
       "\n",
       "                        aspect_ratio  movie_fb_likes  \n",
       "num_critic_for_reviews      0.179809        0.703579  \n",
       "duration                    0.153353        0.212977  \n",
       "director_fb_likes           0.037171        0.162641  \n",
       "actor_3_fb_likes            0.047918        0.259922  \n",
       "actor_1_fb_likes            0.056816        0.128804  \n",
       "gross                       0.065903        0.358630  \n",
       "num_voted_users             0.087079        0.514855  \n",
       "cast_total_fb_likes         0.069464        0.199995  \n",
       "facenumber_in_poster        0.019358        0.012960  \n",
       "num_user_for_reviews        0.098260        0.368575  \n",
       "budget                      0.024978        0.051059  \n",
       "title_year                  0.215610        0.305520  \n",
       "actor_2_fb_likes            0.065212        0.226923  \n",
       "imdb_score                  0.031060        0.284034  \n",
       "aspect_ratio                1.000000        0.110104  \n",
       "movie_fb_likes              0.110104        1.000000  "
      ]
     },
     "execution_count": 67,
     "metadata": {},
     "output_type": "execute_result"
    }
   ],
   "source": [
    "corr_matrix"
   ]
  },
  {
   "cell_type": "code",
   "execution_count": null,
   "metadata": {},
   "outputs": [],
   "source": [
    "df_dummy = pd.get_dummies(df.htype)\n",
    "df = pd.concat([df, df_dummy], axis = 1)"
   ]
  },
  {
   "cell_type": "markdown",
   "metadata": {
    "colab_type": "text",
    "id": "nNnaPdClkRvC"
   },
   "source": [
    "## **5. Pré-traitement**"
   ]
  },
  {
   "cell_type": "markdown",
   "metadata": {},
   "source": [
    "**À FAIRE**\n",
    "\n",
    ">Maintenant que vous commencez à bien connaître votre base de données, on va la préparer pour la partie modélisation.\n",
    ">\n",
    ">Sont donc attendus dans cette partie :\n",
    ">- restriction aux données utiles à la prédiction : potentiellement certaines variables conservées pour la visualisation sont à supprimer pour la modélisation\n",
    ">- création des échantillons d'entraînement et de test\n",
    ">- gestion des variables catégoriques d'un côté et numériques de l'autre\n",
    ">\n",
    ">La standardisation n'étant pas toujours nécessaire puisque ça dépend des modèles, vous pouvez choisir de la faire dès maintenant ou bien d'attendre de voir si vous en avez besoin..."
   ]
  },
  {
   "cell_type": "code",
   "execution_count": null,
   "metadata": {},
   "outputs": [],
   "source": []
  },
  {
   "cell_type": "code",
   "execution_count": null,
   "metadata": {},
   "outputs": [],
   "source": []
  },
  {
   "cell_type": "markdown",
   "metadata": {
    "colab_type": "text",
    "id": "nNnaPdClkRvC"
   },
   "source": [
    "## **6. Une régression linéaire**"
   ]
  },
  {
   "cell_type": "markdown",
   "metadata": {},
   "source": [
    "**À FAIRE**\n",
    "\n",
    ">Tout est dans le titre. Vous devez ici entraîner et tester une régression linéaire pour la prédiction de la note IMDB.  \n",
    ">Par ailleurs, sont attendus ici :\n",
    ">- un affichage et une interprétation des coefficients et de leur significativité\n",
    ">- le choix d'une mesure d'évaluation du modèle et son interprétation\n",
    ">- une validation croisée pour l'estimation de la qualité du modèle\n",
    ">- *facultatif : l'ajout d'une régularisation Ridge ou Lasso pour déterminer si les résultats sont meilleurs*"
   ]
  },
  {
   "cell_type": "code",
   "execution_count": null,
   "metadata": {},
   "outputs": [],
   "source": []
  },
  {
   "cell_type": "markdown",
   "metadata": {
    "colab_type": "text",
    "id": "nNnaPdClkRvC"
   },
   "source": [
    "## **7. Un autre modèle de régression**"
   ]
  },
  {
   "cell_type": "markdown",
   "metadata": {},
   "source": [
    "**À FAIRE**\n",
    "\n",
    ">Tout est encore dans le titre. Mettez en place le modèle **de régression** que vous souhaitez.  \n",
    ">Sont donc attendus dans cette partie :\n",
    ">- une petite phrase pour justifier votre choix\n",
    ">- les pré-traitements supplémentaires nécessaires s'il y en a\n",
    ">- évaluation du modèle avec `cross_val_score`\n",
    ">- affinage des éventuels hyperparamètres avec `GridSearchCV`"
   ]
  },
  {
   "cell_type": "code",
   "execution_count": null,
   "metadata": {},
   "outputs": [],
   "source": []
  },
  {
   "cell_type": "markdown",
   "metadata": {
    "colab_type": "text",
    "id": "nNnaPdClkRvC"
   },
   "source": [
    "## **8. De la régression à la classification**"
   ]
  },
  {
   "cell_type": "markdown",
   "metadata": {},
   "source": [
    "**À FAIRE**\n",
    "\n",
    ">Transformez le problème de régression en un problème de classification par une discrétisation du score IMDB en 5 classes : nul, bof, sympa, bon, super.  \n",
    ">Justifiez votre découpage en indiquant quels seuils vous avez utilisé et pourquoi."
   ]
  },
  {
   "cell_type": "code",
   "execution_count": null,
   "metadata": {},
   "outputs": [],
   "source": []
  },
  {
   "cell_type": "markdown",
   "metadata": {
    "colab_type": "text",
    "id": "nNnaPdClkRvC"
   },
   "source": [
    "## **9. Une régression logistique**"
   ]
  },
  {
   "cell_type": "markdown",
   "metadata": {},
   "source": [
    "**À FAIRE**\n",
    "\n",
    ">Vous devez ici entraîner et tester une régression logistique pour la prédiction de la classe du film.  \n",
    ">Par ailleurs, sont attendus ici :\n",
    ">- un affichage et une interprétation des *Odds-ratio* et de leur significativité\n",
    ">- le choix d'une ou plusieurs mesures d'évaluation du modèle et leur interprétation\n",
    ">- une validation croisée pour l'évaluation modèle\n",
    ">- l'affinage des hyperparamètres avec l'outil qui va bien\n",
    ">- peut-on tracer les courbes ROC et calculer l'AUC ? Pourquoi ?"
   ]
  },
  {
   "cell_type": "code",
   "execution_count": null,
   "metadata": {},
   "outputs": [],
   "source": []
  },
  {
   "cell_type": "markdown",
   "metadata": {
    "colab_type": "text",
    "id": "nNnaPdClkRvC"
   },
   "source": [
    "## **10. Un autre modèle de classification**"
   ]
  },
  {
   "cell_type": "markdown",
   "metadata": {},
   "source": [
    "**À FAIRE**\n",
    "\n",
    ">Au choix, une autre méthode de classification. Évidemment, sentez-vous libre d'en essayer plus d'une et de les comparer.  \n",
    ">Sont donc attendus dans cette partie :\n",
    ">- une petite phrase pour justifier votre choix\n",
    ">- les pré-traitements supplémentaires nécessaires s'il y en a\n",
    ">- évaluation du modèle\n",
    ">- étude de l'importance des paramètres, si votre modèle le permet\n",
    ">- affinage des éventuels hyperparamètres"
   ]
  },
  {
   "cell_type": "code",
   "execution_count": null,
   "metadata": {},
   "outputs": [],
   "source": []
  },
  {
   "cell_type": "markdown",
   "metadata": {
    "colab_type": "text",
    "id": "nNnaPdClkRvC"
   },
   "source": [
    "## **11. En option**"
   ]
  },
  {
   "cell_type": "markdown",
   "metadata": {},
   "source": [
    "Bravo, si vous êtes arrivés jusqu'ici !!!\n",
    "\n",
    "Pour les flèches, hésitez pas à continuer si vous en voulez encore et pour les autres, hésitez pas à y revenir à l'occasion."
   ]
  },
  {
   "cell_type": "markdown",
   "metadata": {
    "colab_type": "text",
    "id": "nNnaPdClkRvC"
   },
   "source": [
    "### **11.1. Un outil de recommandation**"
   ]
  },
  {
   "cell_type": "markdown",
   "metadata": {},
   "source": [
    "**À FAIRE**\n",
    "\n",
    ">Question un peu plus ouverte pour terminer: en utilisant une méthode de clustering (donc d'apprentissage non-supervisé), construisez un petit outil de recommandation de films.  \n",
    ">Pour un film donné, votre méthode doit donc retourner les films qui lui ressemblent le plus.  \n",
    ">Pour rappel, on avait fait un petit exercice comme celui-cilorsqu'on avait vu les *k-plus proches voisins*, donc vous êtes invités à ne pas utiliser kNN, sinon c'est pas drôle...  \n",
    ">Vous pourrez bientôt aller plus loin en créant une petite application web permettant une interface pour choisir un film."
   ]
  },
  {
   "cell_type": "code",
   "execution_count": null,
   "metadata": {},
   "outputs": [],
   "source": []
  },
  {
   "cell_type": "markdown",
   "metadata": {
    "colab_type": "text",
    "id": "nNnaPdClkRvC"
   },
   "source": [
    "### **11.2. Sauvegarder un modèle**"
   ]
  },
  {
   "cell_type": "markdown",
   "metadata": {},
   "source": [
    "**À FAIRE**\n",
    "\n",
    ">Utilisez le module `pickle` pour sauvegarder le meilleur de vos modèles et le recharger ensuite."
   ]
  },
  {
   "cell_type": "code",
   "execution_count": null,
   "metadata": {},
   "outputs": [],
   "source": []
  },
  {
   "cell_type": "markdown",
   "metadata": {
    "colab_type": "text",
    "id": "nNnaPdClkRvC"
   },
   "source": [
    "### **11.3. Analyse en Composantes Principales**"
   ]
  },
  {
   "cell_type": "markdown",
   "metadata": {},
   "source": [
    "**À FAIRE**\n",
    "\n",
    ">Utilisez une ACP pour visualiser vos données en dimension 2 ou 3 avec des points dont la couleur varie en fonction de la classe.  "
   ]
  },
  {
   "cell_type": "markdown",
   "metadata": {},
   "source": [
    "## Sources"
   ]
  },
  {
   "cell_type": "markdown",
   "metadata": {},
   "source": [
    "* https://thispointer.com/pandas-get-unique-values-in-single-or-multiple-columns-of-a-dataframe-in-python/"
   ]
  },
  {
   "cell_type": "code",
   "execution_count": null,
   "metadata": {},
   "outputs": [],
   "source": []
  }
 ],
 "metadata": {
  "colab": {
   "name": "US Income Final.ipynb",
   "provenance": [],
   "toc_visible": true,
   "version": "0.3.2"
  },
  "kernelspec": {
   "display_name": "Python 3",
   "language": "python",
   "name": "python3"
  },
  "language_info": {
   "codemirror_mode": {
    "name": "ipython",
    "version": 3
   },
   "file_extension": ".py",
   "mimetype": "text/x-python",
   "name": "python",
   "nbconvert_exporter": "python",
   "pygments_lexer": "ipython3",
   "version": "3.7.6"
  },
  "toc": {
   "base_numbering": 1,
   "nav_menu": {},
   "number_sections": true,
   "sideBar": true,
   "skip_h1_title": true,
   "title_cell": "Table of Contents",
   "title_sidebar": "Contents",
   "toc_cell": true,
   "toc_position": {},
   "toc_section_display": true,
   "toc_window_display": true
  }
 },
 "nbformat": 4,
 "nbformat_minor": 4
}
