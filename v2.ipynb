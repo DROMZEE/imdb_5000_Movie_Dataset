{
 "cells": [
  {
   "cell_type": "markdown",
   "metadata": {
    "toc": true
   },
   "source": [
    "<h1>Table of Contents<span class=\"tocSkip\"></span></h1>\n",
    "<div class=\"toc\"><ul class=\"toc-item\"></ul></div>"
   ]
  },
  {
   "cell_type": "code",
   "execution_count": null,
   "metadata": {},
   "outputs": [],
   "source": [
    "Version 2"
   ]
  },
  {
   "cell_type": "code",
   "execution_count": 26,
   "metadata": {},
   "outputs": [],
   "source": [
    "import numpy as np\n",
    "import pandas as pd\n",
    "import seaborn as sns\n",
    "from sklearn.preprocessing import LabelEncoder"
   ]
  },
  {
   "cell_type": "code",
   "execution_count": 4,
   "metadata": {},
   "outputs": [],
   "source": [
    "data = pd.read_csv('data/5000_movies_bis.csv')"
   ]
  },
  {
   "cell_type": "code",
   "execution_count": 5,
   "metadata": {},
   "outputs": [
    {
     "data": {
      "text/plain": [
       "(5043, 28)"
      ]
     },
     "execution_count": 5,
     "metadata": {},
     "output_type": "execute_result"
    }
   ],
   "source": [
    "data.shape"
   ]
  },
  {
   "cell_type": "code",
   "execution_count": 7,
   "metadata": {},
   "outputs": [
    {
     "data": {
      "text/plain": [
       "(4998, 28)"
      ]
     },
     "execution_count": 7,
     "metadata": {},
     "output_type": "execute_result"
    }
   ],
   "source": [
    "data.drop_duplicates(inplace = True)\n",
    "data.shape"
   ]
  },
  {
   "cell_type": "code",
   "execution_count": null,
   "metadata": {},
   "outputs": [],
   "source": []
  },
  {
   "cell_type": "code",
   "execution_count": 8,
   "metadata": {},
   "outputs": [],
   "source": [
    "numerical_cols = [col for col in data.columns if data[col].dtype != 'object']\n",
    "categorical_cols = [col for col in data.columns if data[col].dtype == 'object']"
   ]
  },
  {
   "cell_type": "code",
   "execution_count": 9,
   "metadata": {},
   "outputs": [
    {
     "data": {
      "text/plain": [
       "(['color',\n",
       "  'director_name',\n",
       "  'actor_2_name',\n",
       "  'genres',\n",
       "  'actor_1_name',\n",
       "  'movie_title',\n",
       "  'actor_3_name',\n",
       "  'plot_keywords',\n",
       "  'movie_imdb_link',\n",
       "  'language',\n",
       "  'country',\n",
       "  'content_rating'],\n",
       " ['num_critic_for_reviews',\n",
       "  'duration',\n",
       "  'director_fb_likes',\n",
       "  'actor_3_fb_likes',\n",
       "  'actor_1_fb_likes',\n",
       "  'gross',\n",
       "  'num_voted_users',\n",
       "  'cast_total_fb_likes',\n",
       "  'facenumber_in_poster',\n",
       "  'num_user_for_reviews',\n",
       "  'budget',\n",
       "  'title_year',\n",
       "  'actor_2_fb_likes',\n",
       "  'imdb_score',\n",
       "  'aspect_ratio',\n",
       "  'movie_fb_likes'])"
      ]
     },
     "execution_count": 9,
     "metadata": {},
     "output_type": "execute_result"
    }
   ],
   "source": [
    "categorical_cols, numerical_cols"
   ]
  },
  {
   "cell_type": "code",
   "execution_count": 10,
   "metadata": {},
   "outputs": [
    {
     "data": {
      "text/html": [
       "<div>\n",
       "<style scoped>\n",
       "    .dataframe tbody tr th:only-of-type {\n",
       "        vertical-align: middle;\n",
       "    }\n",
       "\n",
       "    .dataframe tbody tr th {\n",
       "        vertical-align: top;\n",
       "    }\n",
       "\n",
       "    .dataframe thead th {\n",
       "        text-align: right;\n",
       "    }\n",
       "</style>\n",
       "<table border=\"1\" class=\"dataframe\">\n",
       "  <thead>\n",
       "    <tr style=\"text-align: right;\">\n",
       "      <th></th>\n",
       "      <th>num_critic_for_reviews</th>\n",
       "      <th>duration</th>\n",
       "      <th>director_fb_likes</th>\n",
       "      <th>actor_3_fb_likes</th>\n",
       "      <th>actor_1_fb_likes</th>\n",
       "      <th>gross</th>\n",
       "      <th>num_voted_users</th>\n",
       "      <th>cast_total_fb_likes</th>\n",
       "      <th>facenumber_in_poster</th>\n",
       "      <th>num_user_for_reviews</th>\n",
       "      <th>budget</th>\n",
       "      <th>title_year</th>\n",
       "      <th>actor_2_fb_likes</th>\n",
       "      <th>imdb_score</th>\n",
       "      <th>aspect_ratio</th>\n",
       "      <th>movie_fb_likes</th>\n",
       "    </tr>\n",
       "  </thead>\n",
       "  <tbody>\n",
       "    <tr>\n",
       "      <th>count</th>\n",
       "      <td>4949.000000</td>\n",
       "      <td>4983.000000</td>\n",
       "      <td>4895.000000</td>\n",
       "      <td>4975.000000</td>\n",
       "      <td>4991.000000</td>\n",
       "      <td>4.536000e+03</td>\n",
       "      <td>4.998000e+03</td>\n",
       "      <td>4998.000000</td>\n",
       "      <td>4985.000000</td>\n",
       "      <td>4977.000000</td>\n",
       "      <td>4.600000e+03</td>\n",
       "      <td>4891.000000</td>\n",
       "      <td>4985.000000</td>\n",
       "      <td>4998.000000</td>\n",
       "      <td>4671.000000</td>\n",
       "      <td>4998.000000</td>\n",
       "    </tr>\n",
       "    <tr>\n",
       "      <th>mean</th>\n",
       "      <td>139.890079</td>\n",
       "      <td>107.213325</td>\n",
       "      <td>688.679060</td>\n",
       "      <td>639.900905</td>\n",
       "      <td>6556.939892</td>\n",
       "      <td>4.509037e+07</td>\n",
       "      <td>8.347020e+04</td>\n",
       "      <td>9676.941176</td>\n",
       "      <td>1.368907</td>\n",
       "      <td>272.014667</td>\n",
       "      <td>3.937862e+07</td>\n",
       "      <td>2002.468820</td>\n",
       "      <td>1642.998796</td>\n",
       "      <td>6.441056</td>\n",
       "      <td>2.221417</td>\n",
       "      <td>7487.430172</td>\n",
       "    </tr>\n",
       "    <tr>\n",
       "      <th>std</th>\n",
       "      <td>121.477586</td>\n",
       "      <td>25.248775</td>\n",
       "      <td>2821.649616</td>\n",
       "      <td>1643.298282</td>\n",
       "      <td>15061.586700</td>\n",
       "      <td>6.608269e+07</td>\n",
       "      <td>1.380866e+05</td>\n",
       "      <td>18165.404578</td>\n",
       "      <td>2.014623</td>\n",
       "      <td>377.776210</td>\n",
       "      <td>2.050105e+08</td>\n",
       "      <td>12.475235</td>\n",
       "      <td>4030.925303</td>\n",
       "      <td>1.124107</td>\n",
       "      <td>1.391185</td>\n",
       "      <td>19290.726563</td>\n",
       "    </tr>\n",
       "    <tr>\n",
       "      <th>min</th>\n",
       "      <td>1.000000</td>\n",
       "      <td>7.000000</td>\n",
       "      <td>0.000000</td>\n",
       "      <td>0.000000</td>\n",
       "      <td>0.000000</td>\n",
       "      <td>1.130000e+02</td>\n",
       "      <td>5.000000e+00</td>\n",
       "      <td>0.000000</td>\n",
       "      <td>0.000000</td>\n",
       "      <td>1.000000</td>\n",
       "      <td>2.180000e+02</td>\n",
       "      <td>1916.000000</td>\n",
       "      <td>0.000000</td>\n",
       "      <td>1.600000</td>\n",
       "      <td>1.180000</td>\n",
       "      <td>0.000000</td>\n",
       "    </tr>\n",
       "    <tr>\n",
       "      <th>25%</th>\n",
       "      <td>50.000000</td>\n",
       "      <td>93.000000</td>\n",
       "      <td>7.000000</td>\n",
       "      <td>133.000000</td>\n",
       "      <td>611.500000</td>\n",
       "      <td>3.763398e+06</td>\n",
       "      <td>8.560000e+03</td>\n",
       "      <td>1405.500000</td>\n",
       "      <td>0.000000</td>\n",
       "      <td>64.000000</td>\n",
       "      <td>6.000000e+06</td>\n",
       "      <td>1999.000000</td>\n",
       "      <td>280.000000</td>\n",
       "      <td>5.800000</td>\n",
       "      <td>1.850000</td>\n",
       "      <td>0.000000</td>\n",
       "    </tr>\n",
       "    <tr>\n",
       "      <th>50%</th>\n",
       "      <td>110.000000</td>\n",
       "      <td>103.000000</td>\n",
       "      <td>49.000000</td>\n",
       "      <td>369.000000</td>\n",
       "      <td>984.000000</td>\n",
       "      <td>2.153765e+07</td>\n",
       "      <td>3.426050e+04</td>\n",
       "      <td>3085.500000</td>\n",
       "      <td>1.000000</td>\n",
       "      <td>156.000000</td>\n",
       "      <td>2.000000e+07</td>\n",
       "      <td>2005.000000</td>\n",
       "      <td>595.000000</td>\n",
       "      <td>6.600000</td>\n",
       "      <td>2.350000</td>\n",
       "      <td>162.500000</td>\n",
       "    </tr>\n",
       "    <tr>\n",
       "      <th>75%</th>\n",
       "      <td>195.000000</td>\n",
       "      <td>118.000000</td>\n",
       "      <td>192.000000</td>\n",
       "      <td>635.000000</td>\n",
       "      <td>11000.000000</td>\n",
       "      <td>5.753742e+07</td>\n",
       "      <td>9.612075e+04</td>\n",
       "      <td>13740.500000</td>\n",
       "      <td>2.000000</td>\n",
       "      <td>324.000000</td>\n",
       "      <td>4.400000e+07</td>\n",
       "      <td>2011.000000</td>\n",
       "      <td>917.000000</td>\n",
       "      <td>7.200000</td>\n",
       "      <td>2.350000</td>\n",
       "      <td>3000.000000</td>\n",
       "    </tr>\n",
       "    <tr>\n",
       "      <th>max</th>\n",
       "      <td>813.000000</td>\n",
       "      <td>511.000000</td>\n",
       "      <td>23000.000000</td>\n",
       "      <td>23000.000000</td>\n",
       "      <td>640000.000000</td>\n",
       "      <td>7.605058e+08</td>\n",
       "      <td>1.689764e+06</td>\n",
       "      <td>656730.000000</td>\n",
       "      <td>43.000000</td>\n",
       "      <td>5060.000000</td>\n",
       "      <td>1.221550e+10</td>\n",
       "      <td>2016.000000</td>\n",
       "      <td>137000.000000</td>\n",
       "      <td>9.500000</td>\n",
       "      <td>16.000000</td>\n",
       "      <td>349000.000000</td>\n",
       "    </tr>\n",
       "  </tbody>\n",
       "</table>\n",
       "</div>"
      ],
      "text/plain": [
       "       num_critic_for_reviews     duration  director_fb_likes  \\\n",
       "count             4949.000000  4983.000000        4895.000000   \n",
       "mean               139.890079   107.213325         688.679060   \n",
       "std                121.477586    25.248775        2821.649616   \n",
       "min                  1.000000     7.000000           0.000000   \n",
       "25%                 50.000000    93.000000           7.000000   \n",
       "50%                110.000000   103.000000          49.000000   \n",
       "75%                195.000000   118.000000         192.000000   \n",
       "max                813.000000   511.000000       23000.000000   \n",
       "\n",
       "       actor_3_fb_likes  actor_1_fb_likes         gross  num_voted_users  \\\n",
       "count       4975.000000       4991.000000  4.536000e+03     4.998000e+03   \n",
       "mean         639.900905       6556.939892  4.509037e+07     8.347020e+04   \n",
       "std         1643.298282      15061.586700  6.608269e+07     1.380866e+05   \n",
       "min            0.000000          0.000000  1.130000e+02     5.000000e+00   \n",
       "25%          133.000000        611.500000  3.763398e+06     8.560000e+03   \n",
       "50%          369.000000        984.000000  2.153765e+07     3.426050e+04   \n",
       "75%          635.000000      11000.000000  5.753742e+07     9.612075e+04   \n",
       "max        23000.000000     640000.000000  7.605058e+08     1.689764e+06   \n",
       "\n",
       "       cast_total_fb_likes  facenumber_in_poster  num_user_for_reviews  \\\n",
       "count          4998.000000           4985.000000           4977.000000   \n",
       "mean           9676.941176              1.368907            272.014667   \n",
       "std           18165.404578              2.014623            377.776210   \n",
       "min               0.000000              0.000000              1.000000   \n",
       "25%            1405.500000              0.000000             64.000000   \n",
       "50%            3085.500000              1.000000            156.000000   \n",
       "75%           13740.500000              2.000000            324.000000   \n",
       "max          656730.000000             43.000000           5060.000000   \n",
       "\n",
       "             budget   title_year  actor_2_fb_likes   imdb_score  aspect_ratio  \\\n",
       "count  4.600000e+03  4891.000000       4985.000000  4998.000000   4671.000000   \n",
       "mean   3.937862e+07  2002.468820       1642.998796     6.441056      2.221417   \n",
       "std    2.050105e+08    12.475235       4030.925303     1.124107      1.391185   \n",
       "min    2.180000e+02  1916.000000          0.000000     1.600000      1.180000   \n",
       "25%    6.000000e+06  1999.000000        280.000000     5.800000      1.850000   \n",
       "50%    2.000000e+07  2005.000000        595.000000     6.600000      2.350000   \n",
       "75%    4.400000e+07  2011.000000        917.000000     7.200000      2.350000   \n",
       "max    1.221550e+10  2016.000000     137000.000000     9.500000     16.000000   \n",
       "\n",
       "       movie_fb_likes  \n",
       "count     4998.000000  \n",
       "mean      7487.430172  \n",
       "std      19290.726563  \n",
       "min          0.000000  \n",
       "25%          0.000000  \n",
       "50%        162.500000  \n",
       "75%       3000.000000  \n",
       "max     349000.000000  "
      ]
     },
     "execution_count": 10,
     "metadata": {},
     "output_type": "execute_result"
    }
   ],
   "source": [
    "data[numerical_cols].describe()"
   ]
  },
  {
   "cell_type": "code",
   "execution_count": 11,
   "metadata": {},
   "outputs": [
    {
     "data": {
      "text/plain": [
       "color                      19\n",
       "director_name             103\n",
       "num_critic_for_reviews     49\n",
       "duration                   15\n",
       "director_fb_likes         103\n",
       "actor_3_fb_likes           23\n",
       "actor_2_name               13\n",
       "actor_1_fb_likes            7\n",
       "gross                     462\n",
       "genres                      0\n",
       "actor_1_name                7\n",
       "movie_title                 0\n",
       "num_voted_users             0\n",
       "cast_total_fb_likes         0\n",
       "actor_3_name               23\n",
       "facenumber_in_poster       13\n",
       "plot_keywords             152\n",
       "movie_imdb_link             0\n",
       "num_user_for_reviews       21\n",
       "language                   12\n",
       "country                     5\n",
       "content_rating            301\n",
       "budget                    398\n",
       "title_year                107\n",
       "actor_2_fb_likes           13\n",
       "imdb_score                  0\n",
       "aspect_ratio              327\n",
       "movie_fb_likes              0\n",
       "dtype: int64"
      ]
     },
     "execution_count": 11,
     "metadata": {},
     "output_type": "execute_result"
    }
   ],
   "source": [
    "data.isnull().sum()"
   ]
  },
  {
   "cell_type": "code",
   "execution_count": 12,
   "metadata": {},
   "outputs": [
    {
     "data": {
      "text/plain": [
       "array(['Color', nan, ' Black and White'], dtype=object)"
      ]
     },
     "execution_count": 12,
     "metadata": {},
     "output_type": "execute_result"
    }
   ],
   "source": [
    "data.color.unique()"
   ]
  },
  {
   "cell_type": "code",
   "execution_count": null,
   "metadata": {},
   "outputs": [],
   "source": [
    "drop color"
   ]
  },
  {
   "cell_type": "code",
   "execution_count": 13,
   "metadata": {},
   "outputs": [
    {
     "data": {
      "text/plain": [
       "(2398, 103)"
      ]
     },
     "execution_count": 13,
     "metadata": {},
     "output_type": "execute_result"
    }
   ],
   "source": [
    "data.director_name.nunique(), data.director_name.isnull().sum()"
   ]
  },
  {
   "cell_type": "code",
   "execution_count": 14,
   "metadata": {},
   "outputs": [],
   "source": [
    "data = data.dropna(axis = 0, subset = ['director_name'] )"
   ]
  },
  {
   "cell_type": "code",
   "execution_count": 15,
   "metadata": {},
   "outputs": [
    {
     "data": {
      "text/plain": [
       "(1.0, 813.0, 112.0)"
      ]
     },
     "execution_count": 15,
     "metadata": {},
     "output_type": "execute_result"
    }
   ],
   "source": [
    "data.num_critic_for_reviews.min(), data.num_critic_for_reviews.max(), data.num_critic_for_reviews.median()"
   ]
  },
  {
   "cell_type": "code",
   "execution_count": 16,
   "metadata": {},
   "outputs": [
    {
     "data": {
      "text/plain": [
       "(7.0, 330.0, 104.0)"
      ]
     },
     "execution_count": 16,
     "metadata": {},
     "output_type": "execute_result"
    }
   ],
   "source": [
    "data.duration.min(), data.duration.max(), data.duration.median()"
   ]
  },
  {
   "cell_type": "code",
   "execution_count": 17,
   "metadata": {},
   "outputs": [
    {
     "data": {
      "text/plain": [
       "363"
      ]
     },
     "execution_count": 17,
     "metadata": {},
     "output_type": "execute_result"
    }
   ],
   "source": [
    "data.gross.isnull().sum()"
   ]
  },
  {
   "cell_type": "code",
   "execution_count": 18,
   "metadata": {},
   "outputs": [
    {
     "data": {
      "text/plain": [
       "English       4567\n",
       "French          72\n",
       "Spanish         40\n",
       "Hindi           28\n",
       "Mandarin        24\n",
       "German          19\n",
       "Japanese        16\n",
       "Russian         11\n",
       "Cantonese       11\n",
       "Italian         10\n",
       "Portuguese       8\n",
       "Korean           8\n",
       "Danish           5\n",
       "Arabic           5\n",
       "Hebrew           5\n",
       "Swedish          5\n",
       "Norwegian        4\n",
       "Dutch            4\n",
       "Persian          4\n",
       "Thai             3\n",
       "Chinese          3\n",
       "Indonesian       2\n",
       "Dari             2\n",
       "Romanian         2\n",
       "Zulu             2\n",
       "Aboriginal       2\n",
       "None             2\n",
       "Maya             1\n",
       "Panjabi          1\n",
       "Dzongkha         1\n",
       "Swahili          1\n",
       "Slovenian        1\n",
       "Polish           1\n",
       "Filipino         1\n",
       "Aramaic          1\n",
       "Tamil            1\n",
       "Urdu             1\n",
       "Hungarian        1\n",
       "Mongolian        1\n",
       "Czech            1\n",
       "Greek            1\n",
       "Telugu           1\n",
       "Kannada          1\n",
       "Bosnian          1\n",
       "Kazakh           1\n",
       "Icelandic        1\n",
       "Vietnamese       1\n",
       "Name: language, dtype: int64"
      ]
     },
     "execution_count": 18,
     "metadata": {},
     "output_type": "execute_result"
    }
   ],
   "source": [
    "data.language.value_counts()"
   ]
  },
  {
   "cell_type": "code",
   "execution_count": 23,
   "metadata": {},
   "outputs": [],
   "source": [
    "# count data.language.unique()"
   ]
  },
  {
   "cell_type": "code",
   "execution_count": 24,
   "metadata": {},
   "outputs": [
    {
     "data": {
      "text/plain": [
       "Steven Spielberg         26\n",
       "Woody Allen              22\n",
       "Martin Scorsese          20\n",
       "Clint Eastwood           20\n",
       "Ridley Scott             17\n",
       "                         ..\n",
       "Shinji Aramaki            1\n",
       "James David Pasternak     1\n",
       "Thomas L. Phillips        1\n",
       "Daniel Stamm              1\n",
       "Nae Caranfil              1\n",
       "Name: director_name, Length: 2398, dtype: int64"
      ]
     },
     "execution_count": 24,
     "metadata": {},
     "output_type": "execute_result"
    }
   ],
   "source": [
    "data.director_name.value_counts()"
   ]
  },
  {
   "cell_type": "code",
   "execution_count": 25,
   "metadata": {},
   "outputs": [],
   "source": [
    "data['main_genre'] = data.genres.str.split('|').str[0]"
   ]
  },
  {
   "cell_type": "code",
   "execution_count": 27,
   "metadata": {},
   "outputs": [],
   "source": [
    "le = LabelEncoder()\n",
    "data['main_genre'] = le.fit_transform(data.main_genre)"
   ]
  },
  {
   "cell_type": "code",
   "execution_count": null,
   "metadata": {},
   "outputs": [],
   "source": []
  }
 ],
 "metadata": {
  "kernelspec": {
   "display_name": "Python 3",
   "language": "python",
   "name": "python3"
  },
  "language_info": {
   "codemirror_mode": {
    "name": "ipython",
    "version": 3
   },
   "file_extension": ".py",
   "mimetype": "text/x-python",
   "name": "python",
   "nbconvert_exporter": "python",
   "pygments_lexer": "ipython3",
   "version": "3.7.6"
  },
  "toc": {
   "base_numbering": 1,
   "nav_menu": {},
   "number_sections": true,
   "sideBar": true,
   "skip_h1_title": false,
   "title_cell": "Table of Contents",
   "title_sidebar": "Contents",
   "toc_cell": true,
   "toc_position": {},
   "toc_section_display": true,
   "toc_window_display": true
  }
 },
 "nbformat": 4,
 "nbformat_minor": 4
}
