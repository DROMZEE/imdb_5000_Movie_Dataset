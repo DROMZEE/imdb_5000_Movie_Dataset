{
 "cells": [
  {
   "cell_type": "markdown",
   "metadata": {
    "toc": true
   },
   "source": [
    "<h1>Table of Contents<span class=\"tocSkip\"></span></h1>\n",
    "<div class=\"toc\"><ul class=\"toc-item\"><li><span><a href=\"#Projet-P6---révisions-et-pratique\" data-toc-modified-id=\"Projet-P6---révisions-et-pratique-1\"><span class=\"toc-item-num\">1&nbsp;&nbsp;</span><strong>Projet P6 - révisions et pratique</strong></a></span><ul class=\"toc-item\"><li><span><a href=\"#1.-Import-des-libraries\" data-toc-modified-id=\"1.-Import-des-libraries-1.1\"><span class=\"toc-item-num\">1.1&nbsp;&nbsp;</span><strong>1. Import des libraries</strong></a></span></li><li><span><a href=\"#2.-Import-des-données\" data-toc-modified-id=\"2.-Import-des-données-1.2\"><span class=\"toc-item-num\">1.2&nbsp;&nbsp;</span><strong>2. Import des données</strong></a></span></li><li><span><a href=\"#3.-Nettoyage-des-données\" data-toc-modified-id=\"3.-Nettoyage-des-données-1.3\"><span class=\"toc-item-num\">1.3&nbsp;&nbsp;</span><strong>3. Nettoyage des données</strong></a></span></li><li><span><a href=\"#4.-Analyse-exploratoire\" data-toc-modified-id=\"4.-Analyse-exploratoire-1.4\"><span class=\"toc-item-num\">1.4&nbsp;&nbsp;</span><strong>4. Analyse exploratoire</strong></a></span></li><li><span><a href=\"#5.-Pré-traitement\" data-toc-modified-id=\"5.-Pré-traitement-1.5\"><span class=\"toc-item-num\">1.5&nbsp;&nbsp;</span><strong>5. Pré-traitement</strong></a></span></li><li><span><a href=\"#6.-Une-régression-linéaire\" data-toc-modified-id=\"6.-Une-régression-linéaire-1.6\"><span class=\"toc-item-num\">1.6&nbsp;&nbsp;</span><strong>6. Une régression linéaire</strong></a></span></li><li><span><a href=\"#7.-Un-autre-modèle-de-régression\" data-toc-modified-id=\"7.-Un-autre-modèle-de-régression-1.7\"><span class=\"toc-item-num\">1.7&nbsp;&nbsp;</span><strong>7. Un autre modèle de régression</strong></a></span></li><li><span><a href=\"#8.-De-la-régression-à-la-classification\" data-toc-modified-id=\"8.-De-la-régression-à-la-classification-1.8\"><span class=\"toc-item-num\">1.8&nbsp;&nbsp;</span><strong>8. De la régression à la classification</strong></a></span></li><li><span><a href=\"#9.-Une-régression-logistique\" data-toc-modified-id=\"9.-Une-régression-logistique-1.9\"><span class=\"toc-item-num\">1.9&nbsp;&nbsp;</span><strong>9. Une régression logistique</strong></a></span></li><li><span><a href=\"#10.-Un-autre-modèle-de-classification\" data-toc-modified-id=\"10.-Un-autre-modèle-de-classification-1.10\"><span class=\"toc-item-num\">1.10&nbsp;&nbsp;</span><strong>10. Un autre modèle de classification</strong></a></span></li><li><span><a href=\"#11.-En-option\" data-toc-modified-id=\"11.-En-option-1.11\"><span class=\"toc-item-num\">1.11&nbsp;&nbsp;</span><strong>11. En option</strong></a></span><ul class=\"toc-item\"><li><span><a href=\"#11.1.-Un-outil-de-recommandation\" data-toc-modified-id=\"11.1.-Un-outil-de-recommandation-1.11.1\"><span class=\"toc-item-num\">1.11.1&nbsp;&nbsp;</span><strong>11.1. Un outil de recommandation</strong></a></span></li><li><span><a href=\"#11.2.-Sauvegarder-un-modèle\" data-toc-modified-id=\"11.2.-Sauvegarder-un-modèle-1.11.2\"><span class=\"toc-item-num\">1.11.2&nbsp;&nbsp;</span><strong>11.2. Sauvegarder un modèle</strong></a></span></li><li><span><a href=\"#11.3.-Analyse-en-Composantes-Principales\" data-toc-modified-id=\"11.3.-Analyse-en-Composantes-Principales-1.11.3\"><span class=\"toc-item-num\">1.11.3&nbsp;&nbsp;</span><strong>11.3. Analyse en Composantes Principales</strong></a></span></li></ul></li></ul></li></ul></div>"
   ]
  },
  {
   "cell_type": "markdown",
   "metadata": {
    "colab_type": "text",
    "id": "bd8dOd6qOZYV"
   },
   "source": [
    "# **Projet P6 - révisions et pratique**"
   ]
  },
  {
   "cell_type": "markdown",
   "metadata": {
    "colab_type": "text",
    "id": "eyS7Q6eAO_C4"
   },
   "source": [
    "Vous allez travailler sur des données extraites de IMDB. Cela vous permettra si vous les souhaitez (plus tard!) d'inclure ce travail à votre projet TheMoviePredictor que vous faites avec Arnaud dans lequel vous récupérez justement ces données et construisez votre base. La variable d'intérêt sera la notation IMDB des films pour pouvoir déterminer. En effet le succès commercial d'un film n'implique pas nécessairement sa qualité et il convient donc d'aller chercher plus loin que le simple profit dégagé d'une production cinématographique...\n",
    "À vous !!\n",
    "\n",
    "Les **objectifs** de ce projet sont multiples :\n",
    "1. Réviser\n",
    "2. Pratiquer\n",
    "3. Vous auto-évaluer et vous évaluer (pour nous)\n",
    "4. Vous rassurer et vous permettre de réaliser ce que vous savez faire pour pouvoir en parler"
   ]
  },
  {
   "cell_type": "markdown",
   "metadata": {
    "colab_type": "text",
    "id": "_2oUOp-mixIv"
   },
   "source": [
    "## **1. Import des libraries**"
   ]
  },
  {
   "cell_type": "markdown",
   "metadata": {},
   "source": [
    "**À FAIRE**\n",
    "\n",
    "> Importer dans la cellule l'ensemble des librairies nécessaires à votre travail. L'idée n'est pas de savoir immédiatement tout ce dont vous aurez besoin mais de faire des aller-retours pour y ajouter vos librairies petit à petit. L'intérêt est une meilleure lisibilité pour un lecteur extérieur qui, en quelques lignes d'import, pourra déjà avoir une idée de ce qui a été fait."
   ]
  },
  {
   "cell_type": "code",
   "execution_count": 1,
   "metadata": {
    "colab": {},
    "colab_type": "code",
    "id": "O_h3GW7YI3SY"
   },
   "outputs": [],
   "source": []
  },
  {
   "cell_type": "markdown",
   "metadata": {
    "colab_type": "text",
    "id": "nNnaPdClkRvC"
   },
   "source": [
    "## **2. Import des données**"
   ]
  },
  {
   "cell_type": "markdown",
   "metadata": {},
   "source": [
    "**À FAIRE**\n",
    "\n",
    "> Importer les données `5000_movies.csv` disponible à la racine de ce document.  \n",
    "> Afficher les 7 premières lignes et **toutes** les colonnes.    \n",
    "> Répondre aux questions suivantes (répondez à toutes les questions dans une seule cellule Markdown mais évidemment le code vous ayant permis d'extraire ces informations doit être présent):\n",
    ">- combien y a-t-il d'observations/de variables ?\n",
    ">- sur combien d'années se répartissent les données ?\n",
    ">- combien de pays sont représentés ?\n",
    ">- combien de réalisateurs différents dans la base ?\n",
    ">- combien d'acteurs et d'actrices différentes ?"
   ]
  },
  {
   "cell_type": "code",
   "execution_count": null,
   "metadata": {},
   "outputs": [],
   "source": []
  },
  {
   "cell_type": "markdown",
   "metadata": {
    "colab_type": "text",
    "id": "nNnaPdClkRvC"
   },
   "source": [
    "## **3. Nettoyage des données**"
   ]
  },
  {
   "cell_type": "markdown",
   "metadata": {},
   "source": [
    "**À FAIRE**\n",
    "\n",
    "> Vous allez dans cette partie vous occuper de faire les opérations de nettoyage sur les données. Cela implique donc de regarder en détail :\n",
    ">- les doublons\n",
    ">- les variables (à supprimer, à modifier etc...)\n",
    ">- les valeurs manquantes\n",
    ">- les zéros\n",
    "> \n",
    ">Ajouter une courte explication des décisions que vous prendrez (gestion des valeurs manquantes, suppression ou modification de certaines variables, etc...)."
   ]
  },
  {
   "cell_type": "code",
   "execution_count": null,
   "metadata": {},
   "outputs": [],
   "source": []
  },
  {
   "cell_type": "markdown",
   "metadata": {
    "colab_type": "text",
    "id": "nNnaPdClkRvC"
   },
   "source": [
    "## **4. Analyse exploratoire**"
   ]
  },
  {
   "cell_type": "markdown",
   "metadata": {},
   "source": [
    "**À FAIRE**\n",
    "\n",
    ">Dans cette partie, vous devez \"explorer\" vos données et les visualiser. Cette tâche, qui peut s'avérer très vaste, consiste à s'intéresser à l'information contenue dans nos données \"au premier abord\".\n",
    ">\n",
    ">Sont donc attendus dans cette partie :\n",
    ">- quelques statistiques descriptives\n",
    ">- entre 6 et 10 visualisations (vous pouvez bien sûr en regrouper plusieurs sur une même figure)\n",
    ">- et pour chaque résultat/graphique présenté, une explication succinte"
   ]
  },
  {
   "cell_type": "code",
   "execution_count": null,
   "metadata": {},
   "outputs": [],
   "source": []
  },
  {
   "cell_type": "markdown",
   "metadata": {
    "colab_type": "text",
    "id": "nNnaPdClkRvC"
   },
   "source": [
    "## **5. Pré-traitement**"
   ]
  },
  {
   "cell_type": "markdown",
   "metadata": {},
   "source": [
    "**À FAIRE**\n",
    "\n",
    ">Maintenant que vous commencez à bien connaître votre base de données, on va la préparer pour la partie modélisation.\n",
    ">\n",
    ">Sont donc attendus dans cette partie :\n",
    ">- restriction aux données utiles à la prédiction : potentiellement certaines variables conservées pour la visualisation sont à supprimer pour la modélisation\n",
    ">- création des échantillons d'entraînement et de test\n",
    ">- gestion des variables catégoriques d'un côté et numériques de l'autre\n",
    ">\n",
    ">La standardisation n'étant pas toujours nécessaire puisque ça dépend des modèles, vous pouvez choisir de la faire dès maintenant ou bien d'attendre de voir si vous en avez besoin..."
   ]
  },
  {
   "cell_type": "code",
   "execution_count": null,
   "metadata": {},
   "outputs": [],
   "source": []
  },
  {
   "cell_type": "markdown",
   "metadata": {
    "colab_type": "text",
    "id": "nNnaPdClkRvC"
   },
   "source": [
    "## **6. Une régression linéaire**"
   ]
  },
  {
   "cell_type": "markdown",
   "metadata": {},
   "source": [
    "**À FAIRE**\n",
    "\n",
    ">Tout est dans le titre. Vous devez ici entraîner et tester une régression linéaire pour la prédiction de la note IMDB.  \n",
    ">Par ailleurs, sont attendus ici :\n",
    ">- un affichage et une interprétation des coefficients et de leur significativité\n",
    ">- le choix d'une mesure d'évaluation du modèle et son interprétation\n",
    ">- une validation croisée pour l'estimation de la qualité du modèle\n",
    ">- *facultatif : l'ajout d'une régularisation Ridge ou Lasso pour déterminer si les résultats sont meilleurs*"
   ]
  },
  {
   "cell_type": "code",
   "execution_count": null,
   "metadata": {},
   "outputs": [],
   "source": []
  },
  {
   "cell_type": "markdown",
   "metadata": {
    "colab_type": "text",
    "id": "nNnaPdClkRvC"
   },
   "source": [
    "## **7. Un autre modèle de régression**"
   ]
  },
  {
   "cell_type": "markdown",
   "metadata": {},
   "source": [
    "**À FAIRE**\n",
    "\n",
    ">Tout est encore dans le titre. Mettez en place le modèle **de régression** que vous souhaitez.  \n",
    ">Sont donc attendus dans cette partie :\n",
    ">- une petite phrase pour justifier votre choix\n",
    ">- les pré-traitements supplémentaires nécessaires s'il y en a\n",
    ">- évaluation du modèle avec `cross_val_score`\n",
    ">- affinage des éventuels hyperparamètres avec `GridSearchCV`"
   ]
  },
  {
   "cell_type": "code",
   "execution_count": null,
   "metadata": {},
   "outputs": [],
   "source": []
  },
  {
   "cell_type": "markdown",
   "metadata": {
    "colab_type": "text",
    "id": "nNnaPdClkRvC"
   },
   "source": [
    "## **8. De la régression à la classification**"
   ]
  },
  {
   "cell_type": "markdown",
   "metadata": {},
   "source": [
    "**À FAIRE**\n",
    "\n",
    ">Transformez le problème de régression en un problème de classification par une discrétisation du score IMDB en 5 classes : nul, bof, sympa, bon, super.  \n",
    ">Justifiez votre découpage en indiquant quels seuils vous avez utilisé et pourquoi."
   ]
  },
  {
   "cell_type": "code",
   "execution_count": null,
   "metadata": {},
   "outputs": [],
   "source": []
  },
  {
   "cell_type": "markdown",
   "metadata": {
    "colab_type": "text",
    "id": "nNnaPdClkRvC"
   },
   "source": [
    "## **9. Une régression logistique**"
   ]
  },
  {
   "cell_type": "markdown",
   "metadata": {},
   "source": [
    "**À FAIRE**\n",
    "\n",
    ">Vous devez ici entraîner et tester une régression logistique pour la prédiction de la classe du film.  \n",
    ">Par ailleurs, sont attendus ici :\n",
    ">- un affichage et une interprétation des *Odds-ratio* et de leur significativité\n",
    ">- le choix d'une ou plusieurs mesures d'évaluation du modèle et leur interprétation\n",
    ">- une validation croisée pour l'évaluation modèle\n",
    ">- l'affinage des hyperparamètres avec l'outil qui va bien\n",
    ">- peut-on tracer les courbes ROC et calculer l'AUC ? Pourquoi ?"
   ]
  },
  {
   "cell_type": "code",
   "execution_count": null,
   "metadata": {},
   "outputs": [],
   "source": []
  },
  {
   "cell_type": "markdown",
   "metadata": {
    "colab_type": "text",
    "id": "nNnaPdClkRvC"
   },
   "source": [
    "## **10. Un autre modèle de classification**"
   ]
  },
  {
   "cell_type": "markdown",
   "metadata": {},
   "source": [
    "**À FAIRE**\n",
    "\n",
    ">Au choix, une autre méthode de classification. Évidemment, sentez-vous libre d'en essayer plus d'une et de les comparer.  \n",
    ">Sont donc attendus dans cette partie :\n",
    ">- une petite phrase pour justifier votre choix\n",
    ">- les pré-traitements supplémentaires nécessaires s'il y en a\n",
    ">- évaluation du modèle\n",
    ">- étude de l'importance des paramètres, si votre modèle le permet\n",
    ">- affinage des éventuels hyperparamètres"
   ]
  },
  {
   "cell_type": "code",
   "execution_count": null,
   "metadata": {},
   "outputs": [],
   "source": []
  },
  {
   "cell_type": "markdown",
   "metadata": {
    "colab_type": "text",
    "id": "nNnaPdClkRvC"
   },
   "source": [
    "## **11. En option**"
   ]
  },
  {
   "cell_type": "markdown",
   "metadata": {},
   "source": [
    "Bravo, si vous êtes arrivés jusqu'ici !!!\n",
    "\n",
    "Pour les flèches, hésitez pas à continuer si vous en voulez encore et pour les autres, hésitez pas à y revenir à l'occasion."
   ]
  },
  {
   "cell_type": "markdown",
   "metadata": {
    "colab_type": "text",
    "id": "nNnaPdClkRvC"
   },
   "source": [
    "### **11.1. Un outil de recommandation**"
   ]
  },
  {
   "cell_type": "markdown",
   "metadata": {},
   "source": [
    "**À FAIRE**\n",
    "\n",
    ">Question un peu plus ouverte pour terminer: en utilisant une méthode de clustering (donc d'apprentissage non-supervisé), construisez un petit outil de recommandation de films.  \n",
    ">Pour un film donné, votre méthode doit donc retourner les films qui lui ressemblent le plus.  \n",
    ">Pour rappel, on avait fait un petit exercice comme celui-cilorsqu'on avait vu les *k-plus proches voisins*, donc vous êtes invités à ne pas utiliser kNN, sinon c'est pas drôle...  \n",
    ">Vous pourrez bientôt aller plus loin en créant une petite application web permettant une interface pour choisir un film."
   ]
  },
  {
   "cell_type": "code",
   "execution_count": null,
   "metadata": {},
   "outputs": [],
   "source": []
  },
  {
   "cell_type": "markdown",
   "metadata": {
    "colab_type": "text",
    "id": "nNnaPdClkRvC"
   },
   "source": [
    "### **11.2. Sauvegarder un modèle**"
   ]
  },
  {
   "cell_type": "markdown",
   "metadata": {},
   "source": [
    "**À FAIRE**\n",
    "\n",
    ">Utilisez le module `pickle` pour sauvegarder le meilleur de vos modèles et le recharger ensuite."
   ]
  },
  {
   "cell_type": "code",
   "execution_count": null,
   "metadata": {},
   "outputs": [],
   "source": []
  },
  {
   "cell_type": "markdown",
   "metadata": {
    "colab_type": "text",
    "id": "nNnaPdClkRvC"
   },
   "source": [
    "### **11.3. Analyse en Composantes Principales**"
   ]
  },
  {
   "cell_type": "markdown",
   "metadata": {},
   "source": [
    "**À FAIRE**\n",
    "\n",
    ">Utilisez une ACP pour visualiser vos données en dimension 2 ou 3 avec des points dont la couleur varie en fonction de la classe.  "
   ]
  },
  {
   "cell_type": "code",
   "execution_count": null,
   "metadata": {},
   "outputs": [],
   "source": []
  }
 ],
 "metadata": {
  "colab": {
   "name": "US Income Final.ipynb",
   "provenance": [],
   "toc_visible": true,
   "version": "0.3.2"
  },
  "kernelspec": {
   "display_name": "Python 3",
   "language": "python",
   "name": "python3"
  },
  "language_info": {
   "codemirror_mode": {
    "name": "ipython",
    "version": 3
   },
   "file_extension": ".py",
   "mimetype": "text/x-python",
   "name": "python",
   "nbconvert_exporter": "python",
   "pygments_lexer": "ipython3",
   "version": "3.7.6"
  },
  "toc": {
   "base_numbering": 1,
   "nav_menu": {},
   "number_sections": true,
   "sideBar": true,
   "skip_h1_title": false,
   "title_cell": "Table of Contents",
   "title_sidebar": "Contents",
   "toc_cell": true,
   "toc_position": {
    "height": "calc(100% - 180px)",
    "left": "10px",
    "top": "150px",
    "width": "307.2px"
   },
   "toc_section_display": true,
   "toc_window_display": true
  }
 },
 "nbformat": 4,
 "nbformat_minor": 4
}
