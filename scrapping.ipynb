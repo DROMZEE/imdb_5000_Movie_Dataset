{
 "cells": [
  {
   "cell_type": "markdown",
   "metadata": {
    "toc": true
   },
   "source": [
    "<h1>Table of Contents<span class=\"tocSkip\"></span></h1>\n",
    "<div class=\"toc\"><ul class=\"toc-item\"></ul></div>"
   ]
  },
  {
   "cell_type": "markdown",
   "metadata": {},
   "source": [
    "Fourni pas Louis"
   ]
  },
  {
   "cell_type": "code",
   "execution_count": null,
   "metadata": {},
   "outputs": [],
   "source": [
    "from urllib.request import urlopen\n",
    "from bs4 import BeautifulSoup\n",
    "\n",
    "def scrap_gross(row):\n",
    "    link = row['movie_imdb_link']\n",
    "    if np.isnan(row['gross']):\n",
    "        page = urlopen(link).read()\n",
    "        soup = BeautifulSoup(page)\n",
    "        for h4 in soup.find_all('h4', {'class':'inline'}):\n",
    "            if \"Cumulative Worldwide Gross:\" in h4:\n",
    "                return float(h4.next_sibling.strip().replace(\"$\",\"\").replace(\",\",\"\"))\n",
    "    else:\n",
    "        return row['gross']\n",
    "    \n",
    "def scrap_budget(row):\n",
    "    link = row['movie_imdb_link']\n",
    "    if np.isnan(row['budget']):\n",
    "        page = urlopen(link).read()\n",
    "        soup = BeautifulSoup(page)\n",
    "        for h4 in soup.find_all('h4', {'class':'inline'}):\n",
    "            if \"Budget:\" in h4:\n",
    "                return float(h4.next_sibling.strip().replace(\"$\",\"\").replace(\",\",\"\").replace(\"EUR\",\"\")) #il faudrait convertir la valeur € en $ pour bien faire...\n",
    "    else:\n",
    "        return row['gross']\n",
    "    \n",
    "data['budget'] = data.apply(scrap_budget, axis=1)\n",
    "data['gross'] = data.apply(scrap_gross, axis=1)\n",
    "\n",
    "data.to_csv('5000_movies_bis.csv', index=False)"
   ]
  }
 ],
 "metadata": {
  "kernelspec": {
   "display_name": "Python 3",
   "language": "python",
   "name": "python3"
  },
  "language_info": {
   "codemirror_mode": {
    "name": "ipython",
    "version": 3
   },
   "file_extension": ".py",
   "mimetype": "text/x-python",
   "name": "python",
   "nbconvert_exporter": "python",
   "pygments_lexer": "ipython3",
   "version": "3.7.6"
  },
  "toc": {
   "base_numbering": 1,
   "nav_menu": {},
   "number_sections": true,
   "sideBar": true,
   "skip_h1_title": false,
   "title_cell": "Table of Contents",
   "title_sidebar": "Contents",
   "toc_cell": true,
   "toc_position": {},
   "toc_section_display": true,
   "toc_window_display": true
  }
 },
 "nbformat": 4,
 "nbformat_minor": 4
}
